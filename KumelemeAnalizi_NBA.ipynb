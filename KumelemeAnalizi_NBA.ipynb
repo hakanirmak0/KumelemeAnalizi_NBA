{
 "cells": [
  {
   "cell_type": "code",
   "execution_count": 1,
   "metadata": {},
   "outputs": [],
   "source": [
    "#KÜTÜPHANELER\n",
    "\n",
    "import numpy as np\n",
    "import pandas as pd\n",
    "import matplotlib.pyplot as plt\n",
    "\n",
    "from sklearn.cluster import KMeans\n",
    "from sklearn import preprocessing\n",
    "from sklearn.preprocessing import OneHotEncoder, LabelEncoder"
   ]
  },
  {
   "cell_type": "code",
   "execution_count": 2,
   "metadata": {},
   "outputs": [],
   "source": [
    "df = pd.read_csv(\"nba.csv\")\n",
    "\n",
    "#Veri Kaynağı: https://www.kaggle.com/davra98/nba-players-20162019"
   ]
  },
  {
   "cell_type": "code",
   "execution_count": 3,
   "metadata": {},
   "outputs": [
    {
     "data": {
      "text/html": [
       "<div>\n",
       "<style scoped>\n",
       "    .dataframe tbody tr th:only-of-type {\n",
       "        vertical-align: middle;\n",
       "    }\n",
       "\n",
       "    .dataframe tbody tr th {\n",
       "        vertical-align: top;\n",
       "    }\n",
       "\n",
       "    .dataframe thead th {\n",
       "        text-align: right;\n",
       "    }\n",
       "</style>\n",
       "<table border=\"1\" class=\"dataframe\">\n",
       "  <thead>\n",
       "    <tr style=\"text-align: right;\">\n",
       "      <th></th>\n",
       "      <th>Rk</th>\n",
       "      <th>Player.x</th>\n",
       "      <th>Player_ID</th>\n",
       "      <th>Pos1</th>\n",
       "      <th>Pos2</th>\n",
       "      <th>Age</th>\n",
       "      <th>Tm</th>\n",
       "      <th>G</th>\n",
       "      <th>GS</th>\n",
       "      <th>MP</th>\n",
       "      <th>...</th>\n",
       "      <th>Conference</th>\n",
       "      <th>Role</th>\n",
       "      <th>Fvot</th>\n",
       "      <th>FRank</th>\n",
       "      <th>Pvot</th>\n",
       "      <th>PRank</th>\n",
       "      <th>Mvot</th>\n",
       "      <th>MRank</th>\n",
       "      <th>Score</th>\n",
       "      <th>Play</th>\n",
       "    </tr>\n",
       "  </thead>\n",
       "  <tbody>\n",
       "    <tr>\n",
       "      <th>0</th>\n",
       "      <td>189</td>\n",
       "      <td>Aaron Gordon</td>\n",
       "      <td>gordoaa01</td>\n",
       "      <td>PF</td>\n",
       "      <td>NaN</td>\n",
       "      <td>23</td>\n",
       "      <td>ORL</td>\n",
       "      <td>78</td>\n",
       "      <td>78</td>\n",
       "      <td>33.8</td>\n",
       "      <td>...</td>\n",
       "      <td>Est</td>\n",
       "      <td>Front</td>\n",
       "      <td>94489</td>\n",
       "      <td>24</td>\n",
       "      <td>10</td>\n",
       "      <td>17</td>\n",
       "      <td>0</td>\n",
       "      <td>7</td>\n",
       "      <td>50.8</td>\n",
       "      <td>No</td>\n",
       "    </tr>\n",
       "    <tr>\n",
       "      <th>1</th>\n",
       "      <td>229</td>\n",
       "      <td>Aaron Holiday</td>\n",
       "      <td>holidaa01</td>\n",
       "      <td>PG</td>\n",
       "      <td>NaN</td>\n",
       "      <td>22</td>\n",
       "      <td>IND</td>\n",
       "      <td>50</td>\n",
       "      <td>0</td>\n",
       "      <td>12.9</td>\n",
       "      <td>...</td>\n",
       "      <td>Est</td>\n",
       "      <td>Back</td>\n",
       "      <td>9819</td>\n",
       "      <td>63</td>\n",
       "      <td>1</td>\n",
       "      <td>43</td>\n",
       "      <td>0</td>\n",
       "      <td>8</td>\n",
       "      <td>73.2</td>\n",
       "      <td>No</td>\n",
       "    </tr>\n",
       "    <tr>\n",
       "      <th>2</th>\n",
       "      <td>371</td>\n",
       "      <td>Abdel Nader</td>\n",
       "      <td>naderab01</td>\n",
       "      <td>SF</td>\n",
       "      <td>NaN</td>\n",
       "      <td>25</td>\n",
       "      <td>OKC</td>\n",
       "      <td>61</td>\n",
       "      <td>1</td>\n",
       "      <td>11.4</td>\n",
       "      <td>...</td>\n",
       "      <td>West</td>\n",
       "      <td>Front</td>\n",
       "      <td>29254</td>\n",
       "      <td>57</td>\n",
       "      <td>0</td>\n",
       "      <td>84</td>\n",
       "      <td>0</td>\n",
       "      <td>8</td>\n",
       "      <td>121.0</td>\n",
       "      <td>No</td>\n",
       "    </tr>\n",
       "    <tr>\n",
       "      <th>3</th>\n",
       "      <td>13</td>\n",
       "      <td>Al-Farouq Aminu</td>\n",
       "      <td>aminual01</td>\n",
       "      <td>PF</td>\n",
       "      <td>NaN</td>\n",
       "      <td>28</td>\n",
       "      <td>POR</td>\n",
       "      <td>81</td>\n",
       "      <td>81</td>\n",
       "      <td>28.3</td>\n",
       "      <td>...</td>\n",
       "      <td>West</td>\n",
       "      <td>Front</td>\n",
       "      <td>26552</td>\n",
       "      <td>65</td>\n",
       "      <td>5</td>\n",
       "      <td>28</td>\n",
       "      <td>0</td>\n",
       "      <td>8</td>\n",
       "      <td>76.2</td>\n",
       "      <td>No</td>\n",
       "    </tr>\n",
       "    <tr>\n",
       "      <th>4</th>\n",
       "      <td>236</td>\n",
       "      <td>Al Horford</td>\n",
       "      <td>horfoal01</td>\n",
       "      <td>C</td>\n",
       "      <td>NaN</td>\n",
       "      <td>32</td>\n",
       "      <td>BOS</td>\n",
       "      <td>68</td>\n",
       "      <td>68</td>\n",
       "      <td>29.0</td>\n",
       "      <td>...</td>\n",
       "      <td>Est</td>\n",
       "      <td>Front</td>\n",
       "      <td>360988</td>\n",
       "      <td>10</td>\n",
       "      <td>7</td>\n",
       "      <td>22</td>\n",
       "      <td>0</td>\n",
       "      <td>7</td>\n",
       "      <td>45.0</td>\n",
       "      <td>No</td>\n",
       "    </tr>\n",
       "  </tbody>\n",
       "</table>\n",
       "<p>5 rows × 45 columns</p>\n",
       "</div>"
      ],
      "text/plain": [
       "    Rk         Player.x  Player_ID Pos1 Pos2  Age   Tm   G  GS    MP  ...  \\\n",
       "0  189     Aaron Gordon  gordoaa01   PF  NaN   23  ORL  78  78  33.8  ...   \n",
       "1  229    Aaron Holiday  holidaa01   PG  NaN   22  IND  50   0  12.9  ...   \n",
       "2  371      Abdel Nader  naderab01   SF  NaN   25  OKC  61   1  11.4  ...   \n",
       "3   13  Al-Farouq Aminu  aminual01   PF  NaN   28  POR  81  81  28.3  ...   \n",
       "4  236       Al Horford  horfoal01    C  NaN   32  BOS  68  68  29.0  ...   \n",
       "\n",
       "   Conference   Role    Fvot  FRank  Pvot  PRank  Mvot  MRank  Score  Play  \n",
       "0         Est  Front   94489     24    10     17     0      7   50.8    No  \n",
       "1         Est   Back    9819     63     1     43     0      8   73.2    No  \n",
       "2        West  Front   29254     57     0     84     0      8  121.0    No  \n",
       "3        West  Front   26552     65     5     28     0      8   76.2    No  \n",
       "4         Est  Front  360988     10     7     22     0      7   45.0    No  \n",
       "\n",
       "[5 rows x 45 columns]"
      ]
     },
     "execution_count": 3,
     "metadata": {},
     "output_type": "execute_result"
    }
   ],
   "source": [
    "df.head()"
   ]
  },
  {
   "cell_type": "code",
   "execution_count": 4,
   "metadata": {
    "scrolled": true
   },
   "outputs": [
    {
     "data": {
      "text/plain": [
       "(474, 45)"
      ]
     },
     "execution_count": 4,
     "metadata": {},
     "output_type": "execute_result"
    }
   ],
   "source": [
    "df.shape"
   ]
  },
  {
   "cell_type": "markdown",
   "metadata": {},
   "source": [
    "Veri seti, 474 NBA oyuncusuna ait bir veri seti. Oyunculara ait hangi takımda oynuyorlar, sayı ortalamaları, oynadıkları dakika ortalamaları vs. gibi bilgiler içeren bir veri seti. Biz bu veri setini kullanarak K-Means algoritması ile oyuncuları kümelendirmeyi amaçlıyoruz."
   ]
  },
  {
   "cell_type": "code",
   "execution_count": 5,
   "metadata": {
    "scrolled": true
   },
   "outputs": [
    {
     "name": "stdout",
     "output_type": "stream",
     "text": [
      "<class 'pandas.core.frame.DataFrame'>\n",
      "RangeIndex: 474 entries, 0 to 473\n",
      "Data columns (total 45 columns):\n",
      " #   Column      Non-Null Count  Dtype  \n",
      "---  ------      --------------  -----  \n",
      " 0   Rk          474 non-null    int64  \n",
      " 1   Player.x    474 non-null    object \n",
      " 2   Player_ID   474 non-null    object \n",
      " 3   Pos1        474 non-null    object \n",
      " 4   Pos2        8 non-null      object \n",
      " 5   Age         474 non-null    int64  \n",
      " 6   Tm          474 non-null    object \n",
      " 7   G           474 non-null    int64  \n",
      " 8   GS          474 non-null    int64  \n",
      " 9   MP          474 non-null    float64\n",
      " 10  FG          474 non-null    float64\n",
      " 11  FGA         474 non-null    float64\n",
      " 12  FG.         473 non-null    float64\n",
      " 13  X3P         474 non-null    float64\n",
      " 14  X3PA        474 non-null    float64\n",
      " 15  X3P.        447 non-null    float64\n",
      " 16  X2P         474 non-null    float64\n",
      " 17  X2PA        474 non-null    float64\n",
      " 18  X2P.        470 non-null    float64\n",
      " 19  eFG.        473 non-null    float64\n",
      " 20  FT          474 non-null    float64\n",
      " 21  FTA         474 non-null    float64\n",
      " 22  FT.         461 non-null    float64\n",
      " 23  ORB         474 non-null    float64\n",
      " 24  DRB         474 non-null    float64\n",
      " 25  TRB         474 non-null    float64\n",
      " 26  AST         474 non-null    float64\n",
      " 27  STL         474 non-null    float64\n",
      " 28  BLK         474 non-null    float64\n",
      " 29  TOV         474 non-null    float64\n",
      " 30  PF          474 non-null    float64\n",
      " 31  PTS         474 non-null    float64\n",
      " 32  Salary      453 non-null    float64\n",
      " 33  mean_views  422 non-null    float64\n",
      " 34  Season      474 non-null    object \n",
      " 35  Conference  474 non-null    object \n",
      " 36  Role        474 non-null    object \n",
      " 37  Fvot        474 non-null    int64  \n",
      " 38  FRank       474 non-null    int64  \n",
      " 39  Pvot        474 non-null    int64  \n",
      " 40  PRank       474 non-null    int64  \n",
      " 41  Mvot        474 non-null    int64  \n",
      " 42  MRank       474 non-null    int64  \n",
      " 43  Score       474 non-null    float64\n",
      " 44  Play        474 non-null    object \n",
      "dtypes: float64(26), int64(10), object(9)\n",
      "memory usage: 166.8+ KB\n"
     ]
    }
   ],
   "source": [
    "df.info()"
   ]
  },
  {
   "cell_type": "markdown",
   "metadata": {},
   "source": [
    "## Veri Ön İşleme"
   ]
  },
  {
   "cell_type": "code",
   "execution_count": 6,
   "metadata": {},
   "outputs": [],
   "source": [
    "#Öncelikle df_model isminde yeni bir değişkeni df'e eşitliyoruz. df üzerinde oynama yapmayacağız. df_model değişkeninini\n",
    "#hazırlayıp modele sokacağız.\n",
    "\n",
    "df_model = df\n",
    "\n",
    "\n",
    "#Modele sokmayacağımız sütunları df_model'den siliyoruz.\n",
    "\n",
    "df_model = df_model.rename(columns = {\"Player.x\" : \"Player_x\"})\n",
    "df_model = df_model.drop(columns = {\"Player_x\", \"Player_ID\", \"Rk\"})"
   ]
  },
  {
   "cell_type": "markdown",
   "metadata": {},
   "source": [
    "Tektek sütunları inceleyeceğiz gerek gördüğümüz şeyleri bu aşamada uygulayıp veriyi hazırlayacağız."
   ]
  },
  {
   "cell_type": "code",
   "execution_count": 7,
   "metadata": {},
   "outputs": [
    {
     "name": "stdout",
     "output_type": "stream",
     "text": [
      "Eksik veri toplamı: 0\n"
     ]
    },
    {
     "data": {
      "text/plain": [
       "SG    119\n",
       "PF    100\n",
       "PG     98\n",
       "C      87\n",
       "SF     70\n",
       "Name: Pos1, dtype: int64"
      ]
     },
     "execution_count": 7,
     "metadata": {},
     "output_type": "execute_result"
    }
   ],
   "source": [
    "print(\"Eksik veri toplamı:\", df_model.Pos1.isnull().sum())\n",
    "df_model[\"Pos1\"].value_counts()"
   ]
  },
  {
   "cell_type": "markdown",
   "metadata": {},
   "source": [
    "Oyuncuların oynadıkları pozisyon hakkında bilgi veren değişken. One-Hot Encoding yapacağız."
   ]
  },
  {
   "cell_type": "code",
   "execution_count": 8,
   "metadata": {
    "scrolled": true
   },
   "outputs": [],
   "source": [
    "#One-Hot Encoding\n",
    "df_model = pd.get_dummies(df_model, columns = [\"Pos1\"], prefix = [\"Pos1\"])"
   ]
  },
  {
   "cell_type": "code",
   "execution_count": 9,
   "metadata": {},
   "outputs": [
    {
     "name": "stdout",
     "output_type": "stream",
     "text": [
      "Eksik veri toplamı: 466\n"
     ]
    }
   ],
   "source": [
    "print(\"Eksik veri toplamı:\", df_model.Pos2.isnull().sum())"
   ]
  },
  {
   "cell_type": "markdown",
   "metadata": {},
   "source": [
    "Çok eksik veri var ve pozisyon bilgisi zaten bir önceki değişkende de var olduğu için siliyoruz."
   ]
  },
  {
   "cell_type": "code",
   "execution_count": 10,
   "metadata": {
    "scrolled": true
   },
   "outputs": [],
   "source": [
    "df_model = df_model.drop(columns = \"Pos2\")"
   ]
  },
  {
   "cell_type": "code",
   "execution_count": 11,
   "metadata": {},
   "outputs": [
    {
     "name": "stdout",
     "output_type": "stream",
     "text": [
      "Eksik veri toplamı: 0\n"
     ]
    },
    {
     "data": {
      "text/plain": [
       "count    474.000000\n",
       "mean      25.911392\n",
       "std        4.233232\n",
       "min       19.000000\n",
       "25%       23.000000\n",
       "50%       25.000000\n",
       "75%       29.000000\n",
       "max       42.000000\n",
       "Name: Age, dtype: float64"
      ]
     },
     "execution_count": 11,
     "metadata": {},
     "output_type": "execute_result"
    }
   ],
   "source": [
    "print(\"Eksik veri toplamı:\", df_model.Age.isnull().sum())\n",
    "df_model.Age.describe()"
   ]
  },
  {
   "cell_type": "markdown",
   "metadata": {},
   "source": [
    "Oyuncuların yaşları hakkında bilgi veren değişken. Bir sıkıntı görünmüyor."
   ]
  },
  {
   "cell_type": "code",
   "execution_count": 12,
   "metadata": {
    "scrolled": true
   },
   "outputs": [
    {
     "name": "stdout",
     "output_type": "stream",
     "text": [
      "Eksik veri toplamı: 0\n"
     ]
    },
    {
     "data": {
      "text/plain": [
       "PHI    19\n",
       "MIL    18\n",
       "LAC    18\n",
       "UTA    17\n",
       "LAL    17\n",
       "MEM    17\n",
       "CHO    17\n",
       "IND    17\n",
       "GSW    16\n",
       "TOR    16\n",
       "WAS    16\n",
       "DAL    16\n",
       "MIN    16\n",
       "OKC    16\n",
       "DET    16\n",
       "NOP    16\n",
       "DEN    16\n",
       "CHI    15\n",
       "CLE    15\n",
       "POR    15\n",
       "BRK    15\n",
       "BOS    15\n",
       "ORL    15\n",
       "MIA    15\n",
       "HOU    15\n",
       "SAS    14\n",
       "NYK    14\n",
       "PHO    14\n",
       "ATL    14\n",
       "SAC    14\n",
       "Name: Tm, dtype: int64"
      ]
     },
     "execution_count": 12,
     "metadata": {},
     "output_type": "execute_result"
    }
   ],
   "source": [
    "print(\"Eksik veri toplamı:\", df_model.Tm.isnull().sum())\n",
    "df_model[\"Tm\"].value_counts()"
   ]
  },
  {
   "cell_type": "markdown",
   "metadata": {},
   "source": [
    "NBA'i takip edenler bilecektir ki oyuncuların oynadıkları takımlar ile kendi kaliteleri arasında aslında çok da doğrusal bir ilişki yoktur, en azından bence böyle. Bu sebepten ötürü bu sütunu modele sokmayacağız. Siliyoruz."
   ]
  },
  {
   "cell_type": "code",
   "execution_count": 13,
   "metadata": {},
   "outputs": [],
   "source": [
    "df_model = df_model.drop(columns = \"Tm\")"
   ]
  },
  {
   "cell_type": "code",
   "execution_count": 14,
   "metadata": {},
   "outputs": [
    {
     "name": "stdout",
     "output_type": "stream",
     "text": [
      "Eksik veri toplamı: 0\n"
     ]
    },
    {
     "data": {
      "text/plain": [
       "count    474.000000\n",
       "mean      53.438819\n",
       "std       23.611582\n",
       "min        1.000000\n",
       "25%       37.000000\n",
       "50%       59.500000\n",
       "75%       74.000000\n",
       "max       82.000000\n",
       "Name: G, dtype: float64"
      ]
     },
     "execution_count": 14,
     "metadata": {},
     "output_type": "execute_result"
    }
   ],
   "source": [
    "print(\"Eksik veri toplamı:\", df_model.G.isnull().sum())\n",
    "df_model.G.describe()"
   ]
  },
  {
   "cell_type": "markdown",
   "metadata": {},
   "source": [
    "Oyuncunun çıktığı maç sayısı. Herhangi bir sıkıntı görünmüyor."
   ]
  },
  {
   "cell_type": "code",
   "execution_count": 15,
   "metadata": {
    "scrolled": true
   },
   "outputs": [
    {
     "name": "stdout",
     "output_type": "stream",
     "text": [
      "Eksik veri toplamı: 0\n"
     ]
    },
    {
     "data": {
      "text/plain": [
       "count    474.000000\n",
       "mean      25.584388\n",
       "std       28.540729\n",
       "min        0.000000\n",
       "25%        1.000000\n",
       "50%       13.000000\n",
       "75%       51.000000\n",
       "max       82.000000\n",
       "Name: GS, dtype: float64"
      ]
     },
     "execution_count": 15,
     "metadata": {},
     "output_type": "execute_result"
    }
   ],
   "source": [
    "print(\"Eksik veri toplamı:\", df_model.GS.isnull().sum())\n",
    "df_model.GS.describe()"
   ]
  },
  {
   "cell_type": "markdown",
   "metadata": {},
   "source": [
    "Oyuncunun ilk 5 başladığı maç sayısı. Bir sıkıntı görünmüyor."
   ]
  },
  {
   "cell_type": "code",
   "execution_count": 16,
   "metadata": {},
   "outputs": [
    {
     "name": "stdout",
     "output_type": "stream",
     "text": [
      "Eksik veri toplamı: 0\n"
     ]
    },
    {
     "data": {
      "text/plain": [
       "count    474.000000\n",
       "mean      20.244515\n",
       "std        8.822752\n",
       "min        0.700000\n",
       "25%       13.400000\n",
       "50%       20.050000\n",
       "75%       27.475000\n",
       "max       36.900000\n",
       "Name: MP, dtype: float64"
      ]
     },
     "execution_count": 16,
     "metadata": {},
     "output_type": "execute_result"
    }
   ],
   "source": [
    "print(\"Eksik veri toplamı:\", df_model.MP.isnull().sum())\n",
    "df_model.MP.describe()"
   ]
  },
  {
   "cell_type": "markdown",
   "metadata": {},
   "source": [
    "Oyuncunun süre aldığı dakika. Bir sıkıntı görünmüyor."
   ]
  },
  {
   "cell_type": "code",
   "execution_count": 17,
   "metadata": {},
   "outputs": [
    {
     "name": "stdout",
     "output_type": "stream",
     "text": [
      "Eksik veri toplamı: 0\n"
     ]
    },
    {
     "data": {
      "text/plain": [
       "count    474.000000\n",
       "mean       3.361603\n",
       "std        2.210680\n",
       "min        0.000000\n",
       "25%        1.700000\n",
       "50%        2.800000\n",
       "75%        4.500000\n",
       "max       10.800000\n",
       "Name: FG, dtype: float64"
      ]
     },
     "execution_count": 17,
     "metadata": {},
     "output_type": "execute_result"
    }
   ],
   "source": [
    "print(\"Eksik veri toplamı:\", df_model.FG.isnull().sum())\n",
    "df_model.FG.describe()"
   ]
  },
  {
   "cell_type": "markdown",
   "metadata": {},
   "source": [
    "Oyuncunun maç başına başarılı olduğu ortalama atış sayısı. Sıkıntı görünmüyor."
   ]
  },
  {
   "cell_type": "code",
   "execution_count": 18,
   "metadata": {},
   "outputs": [
    {
     "name": "stdout",
     "output_type": "stream",
     "text": [
      "Eksik veri toplamı: 0\n"
     ]
    },
    {
     "data": {
      "text/plain": [
       "count    474.000000\n",
       "mean       7.383122\n",
       "std        4.595826\n",
       "min        0.000000\n",
       "25%        4.000000\n",
       "50%        6.400000\n",
       "75%        9.875000\n",
       "max       24.500000\n",
       "Name: FGA, dtype: float64"
      ]
     },
     "execution_count": 18,
     "metadata": {},
     "output_type": "execute_result"
    }
   ],
   "source": [
    "print(\"Eksik veri toplamı:\", df_model.FGA.isnull().sum())\n",
    "df_model.FGA.describe()"
   ]
  },
  {
   "cell_type": "markdown",
   "metadata": {},
   "source": [
    "Oyuncunun maç başına denediği ortalama atış sayısı. Sıkıntı görünmüyor."
   ]
  },
  {
   "cell_type": "code",
   "execution_count": 19,
   "metadata": {},
   "outputs": [
    {
     "name": "stdout",
     "output_type": "stream",
     "text": [
      "Eksik veri toplamı: 1\n"
     ]
    },
    {
     "data": {
      "text/plain": [
       "count    473.000000\n",
       "mean       0.445873\n",
       "std        0.089334\n",
       "min        0.000000\n",
       "25%        0.405000\n",
       "50%        0.440000\n",
       "75%        0.487000\n",
       "max        0.716000\n",
       "Name: FG_, dtype: float64"
      ]
     },
     "execution_count": 19,
     "metadata": {},
     "output_type": "execute_result"
    }
   ],
   "source": [
    "df_model = df_model.rename(columns = {\"FG.\" : \"FG_\"})\n",
    "\n",
    "print(\"Eksik veri toplamı:\", df_model.FG_.isnull().sum())\n",
    "df_model.FG_.describe()"
   ]
  },
  {
   "cell_type": "markdown",
   "metadata": {},
   "source": [
    "Atış yüzdesi. 1 tane eksik veri var buna bakacağız."
   ]
  },
  {
   "cell_type": "code",
   "execution_count": 20,
   "metadata": {
    "scrolled": true
   },
   "outputs": [
    {
     "data": {
      "text/html": [
       "<div>\n",
       "<style scoped>\n",
       "    .dataframe tbody tr th:only-of-type {\n",
       "        vertical-align: middle;\n",
       "    }\n",
       "\n",
       "    .dataframe tbody tr th {\n",
       "        vertical-align: top;\n",
       "    }\n",
       "\n",
       "    .dataframe thead th {\n",
       "        text-align: right;\n",
       "    }\n",
       "</style>\n",
       "<table border=\"1\" class=\"dataframe\">\n",
       "  <thead>\n",
       "    <tr style=\"text-align: right;\">\n",
       "      <th></th>\n",
       "      <th>FGA</th>\n",
       "      <th>FG</th>\n",
       "      <th>FG_</th>\n",
       "    </tr>\n",
       "  </thead>\n",
       "  <tbody>\n",
       "    <tr>\n",
       "      <th>155</th>\n",
       "      <td>0.0</td>\n",
       "      <td>0.0</td>\n",
       "      <td>NaN</td>\n",
       "    </tr>\n",
       "  </tbody>\n",
       "</table>\n",
       "</div>"
      ],
      "text/plain": [
       "     FGA   FG  FG_\n",
       "155  0.0  0.0  NaN"
      ]
     },
     "execution_count": 20,
     "metadata": {},
     "output_type": "execute_result"
    }
   ],
   "source": [
    "df_model[df_model.FG_.isnull()][{\"FG\", \"FGA\", \"FG_\"}]"
   ]
  },
  {
   "cell_type": "markdown",
   "metadata": {},
   "source": [
    "\"FG_\" sütunundaki boş değer aslında 0 olması gereken bir değer. Bu yüzden eksik değeri 0 ile dolduruyoruz."
   ]
  },
  {
   "cell_type": "code",
   "execution_count": 21,
   "metadata": {},
   "outputs": [],
   "source": [
    "df_model.FG_ = df_model.FG_.fillna(0)"
   ]
  },
  {
   "cell_type": "code",
   "execution_count": 22,
   "metadata": {},
   "outputs": [
    {
     "name": "stdout",
     "output_type": "stream",
     "text": [
      "Eksik veri toplamı: 0\n"
     ]
    },
    {
     "data": {
      "text/plain": [
       "count    474.000000\n",
       "mean       0.923840\n",
       "std        0.805269\n",
       "min        0.000000\n",
       "25%        0.300000\n",
       "50%        0.800000\n",
       "75%        1.400000\n",
       "max        5.100000\n",
       "Name: X3P, dtype: float64"
      ]
     },
     "execution_count": 22,
     "metadata": {},
     "output_type": "execute_result"
    }
   ],
   "source": [
    "print(\"Eksik veri toplamı:\", df_model.X3P.isnull().sum())\n",
    "df_model.X3P.describe()"
   ]
  },
  {
   "cell_type": "markdown",
   "metadata": {},
   "source": [
    "Oyuncunun maç başına ortalama başarılı olduğu 3'lük atış sayısı. Sıkıntı görünmüyor."
   ]
  },
  {
   "cell_type": "code",
   "execution_count": 23,
   "metadata": {},
   "outputs": [
    {
     "name": "stdout",
     "output_type": "stream",
     "text": [
      "Eksik veri toplamı: 0\n"
     ]
    },
    {
     "data": {
      "text/plain": [
       "count    474.000000\n",
       "mean       2.643249\n",
       "std        2.108817\n",
       "min        0.000000\n",
       "25%        1.000000\n",
       "50%        2.300000\n",
       "75%        3.900000\n",
       "max       13.200000\n",
       "Name: X3PA, dtype: float64"
      ]
     },
     "execution_count": 23,
     "metadata": {},
     "output_type": "execute_result"
    }
   ],
   "source": [
    "print(\"Eksik veri toplamı:\", df_model.X3PA.isnull().sum())\n",
    "df_model.X3PA.describe()"
   ]
  },
  {
   "cell_type": "markdown",
   "metadata": {},
   "source": [
    "Oyuncunun maç başına denediği ortalama 3'lük atış sayısı."
   ]
  },
  {
   "cell_type": "code",
   "execution_count": 24,
   "metadata": {},
   "outputs": [
    {
     "name": "stdout",
     "output_type": "stream",
     "text": [
      "Eksik veri toplamı: 27\n"
     ]
    },
    {
     "data": {
      "text/plain": [
       "count    447.000000\n",
       "mean       0.316613\n",
       "std        0.115638\n",
       "min        0.000000\n",
       "25%        0.294000\n",
       "50%        0.336000\n",
       "75%        0.369500\n",
       "max        1.000000\n",
       "Name: X3P_, dtype: float64"
      ]
     },
     "execution_count": 24,
     "metadata": {},
     "output_type": "execute_result"
    }
   ],
   "source": [
    "df_model = df_model.rename(columns = {\"X3P.\" : \"X3P_\"})\n",
    "\n",
    "print(\"Eksik veri toplamı:\", df_model.X3P_.isnull().sum())\n",
    "df_model.X3P_.describe()"
   ]
  },
  {
   "cell_type": "markdown",
   "metadata": {},
   "source": [
    "3'lük atış yüzdesi. 27 tane eksik veri var onlara bakacağız. Oranın %100 olması aykırı bir durum buna bakacağız."
   ]
  },
  {
   "cell_type": "code",
   "execution_count": 25,
   "metadata": {
    "scrolled": true
   },
   "outputs": [
    {
     "data": {
      "text/html": [
       "<div>\n",
       "<style scoped>\n",
       "    .dataframe tbody tr th:only-of-type {\n",
       "        vertical-align: middle;\n",
       "    }\n",
       "\n",
       "    .dataframe tbody tr th {\n",
       "        vertical-align: top;\n",
       "    }\n",
       "\n",
       "    .dataframe thead th {\n",
       "        text-align: right;\n",
       "    }\n",
       "</style>\n",
       "<table border=\"1\" class=\"dataframe\">\n",
       "  <thead>\n",
       "    <tr style=\"text-align: right;\">\n",
       "      <th></th>\n",
       "      <th>X3PA</th>\n",
       "      <th>X3P_</th>\n",
       "      <th>X3P</th>\n",
       "    </tr>\n",
       "  </thead>\n",
       "  <tbody>\n",
       "    <tr>\n",
       "      <th>14</th>\n",
       "      <td>0.0</td>\n",
       "      <td>NaN</td>\n",
       "      <td>0.0</td>\n",
       "    </tr>\n",
       "    <tr>\n",
       "      <th>21</th>\n",
       "      <td>0.0</td>\n",
       "      <td>NaN</td>\n",
       "      <td>0.0</td>\n",
       "    </tr>\n",
       "    <tr>\n",
       "      <th>22</th>\n",
       "      <td>0.0</td>\n",
       "      <td>NaN</td>\n",
       "      <td>0.0</td>\n",
       "    </tr>\n",
       "    <tr>\n",
       "      <th>32</th>\n",
       "      <td>0.0</td>\n",
       "      <td>NaN</td>\n",
       "      <td>0.0</td>\n",
       "    </tr>\n",
       "    <tr>\n",
       "      <th>65</th>\n",
       "      <td>0.0</td>\n",
       "      <td>NaN</td>\n",
       "      <td>0.0</td>\n",
       "    </tr>\n",
       "    <tr>\n",
       "      <th>74</th>\n",
       "      <td>0.0</td>\n",
       "      <td>NaN</td>\n",
       "      <td>0.0</td>\n",
       "    </tr>\n",
       "    <tr>\n",
       "      <th>96</th>\n",
       "      <td>0.0</td>\n",
       "      <td>NaN</td>\n",
       "      <td>0.0</td>\n",
       "    </tr>\n",
       "    <tr>\n",
       "      <th>125</th>\n",
       "      <td>0.0</td>\n",
       "      <td>NaN</td>\n",
       "      <td>0.0</td>\n",
       "    </tr>\n",
       "    <tr>\n",
       "      <th>128</th>\n",
       "      <td>0.0</td>\n",
       "      <td>NaN</td>\n",
       "      <td>0.0</td>\n",
       "    </tr>\n",
       "    <tr>\n",
       "      <th>135</th>\n",
       "      <td>0.0</td>\n",
       "      <td>NaN</td>\n",
       "      <td>0.0</td>\n",
       "    </tr>\n",
       "    <tr>\n",
       "      <th>155</th>\n",
       "      <td>0.0</td>\n",
       "      <td>NaN</td>\n",
       "      <td>0.0</td>\n",
       "    </tr>\n",
       "    <tr>\n",
       "      <th>173</th>\n",
       "      <td>0.0</td>\n",
       "      <td>NaN</td>\n",
       "      <td>0.0</td>\n",
       "    </tr>\n",
       "    <tr>\n",
       "      <th>178</th>\n",
       "      <td>0.0</td>\n",
       "      <td>NaN</td>\n",
       "      <td>0.0</td>\n",
       "    </tr>\n",
       "    <tr>\n",
       "      <th>182</th>\n",
       "      <td>0.0</td>\n",
       "      <td>NaN</td>\n",
       "      <td>0.0</td>\n",
       "    </tr>\n",
       "    <tr>\n",
       "      <th>191</th>\n",
       "      <td>0.0</td>\n",
       "      <td>NaN</td>\n",
       "      <td>0.0</td>\n",
       "    </tr>\n",
       "    <tr>\n",
       "      <th>226</th>\n",
       "      <td>0.0</td>\n",
       "      <td>NaN</td>\n",
       "      <td>0.0</td>\n",
       "    </tr>\n",
       "    <tr>\n",
       "      <th>277</th>\n",
       "      <td>0.0</td>\n",
       "      <td>NaN</td>\n",
       "      <td>0.0</td>\n",
       "    </tr>\n",
       "    <tr>\n",
       "      <th>278</th>\n",
       "      <td>0.0</td>\n",
       "      <td>NaN</td>\n",
       "      <td>0.0</td>\n",
       "    </tr>\n",
       "    <tr>\n",
       "      <th>307</th>\n",
       "      <td>0.0</td>\n",
       "      <td>NaN</td>\n",
       "      <td>0.0</td>\n",
       "    </tr>\n",
       "    <tr>\n",
       "      <th>333</th>\n",
       "      <td>0.0</td>\n",
       "      <td>NaN</td>\n",
       "      <td>0.0</td>\n",
       "    </tr>\n",
       "    <tr>\n",
       "      <th>335</th>\n",
       "      <td>0.0</td>\n",
       "      <td>NaN</td>\n",
       "      <td>0.0</td>\n",
       "    </tr>\n",
       "    <tr>\n",
       "      <th>342</th>\n",
       "      <td>0.0</td>\n",
       "      <td>NaN</td>\n",
       "      <td>0.0</td>\n",
       "    </tr>\n",
       "    <tr>\n",
       "      <th>374</th>\n",
       "      <td>0.0</td>\n",
       "      <td>NaN</td>\n",
       "      <td>0.0</td>\n",
       "    </tr>\n",
       "    <tr>\n",
       "      <th>377</th>\n",
       "      <td>0.0</td>\n",
       "      <td>NaN</td>\n",
       "      <td>0.0</td>\n",
       "    </tr>\n",
       "    <tr>\n",
       "      <th>386</th>\n",
       "      <td>0.0</td>\n",
       "      <td>NaN</td>\n",
       "      <td>0.0</td>\n",
       "    </tr>\n",
       "    <tr>\n",
       "      <th>429</th>\n",
       "      <td>0.0</td>\n",
       "      <td>NaN</td>\n",
       "      <td>0.0</td>\n",
       "    </tr>\n",
       "    <tr>\n",
       "      <th>439</th>\n",
       "      <td>0.0</td>\n",
       "      <td>NaN</td>\n",
       "      <td>0.0</td>\n",
       "    </tr>\n",
       "  </tbody>\n",
       "</table>\n",
       "</div>"
      ],
      "text/plain": [
       "     X3PA  X3P_  X3P\n",
       "14    0.0   NaN  0.0\n",
       "21    0.0   NaN  0.0\n",
       "22    0.0   NaN  0.0\n",
       "32    0.0   NaN  0.0\n",
       "65    0.0   NaN  0.0\n",
       "74    0.0   NaN  0.0\n",
       "96    0.0   NaN  0.0\n",
       "125   0.0   NaN  0.0\n",
       "128   0.0   NaN  0.0\n",
       "135   0.0   NaN  0.0\n",
       "155   0.0   NaN  0.0\n",
       "173   0.0   NaN  0.0\n",
       "178   0.0   NaN  0.0\n",
       "182   0.0   NaN  0.0\n",
       "191   0.0   NaN  0.0\n",
       "226   0.0   NaN  0.0\n",
       "277   0.0   NaN  0.0\n",
       "278   0.0   NaN  0.0\n",
       "307   0.0   NaN  0.0\n",
       "333   0.0   NaN  0.0\n",
       "335   0.0   NaN  0.0\n",
       "342   0.0   NaN  0.0\n",
       "374   0.0   NaN  0.0\n",
       "377   0.0   NaN  0.0\n",
       "386   0.0   NaN  0.0\n",
       "429   0.0   NaN  0.0\n",
       "439   0.0   NaN  0.0"
      ]
     },
     "execution_count": 25,
     "metadata": {},
     "output_type": "execute_result"
    }
   ],
   "source": [
    "df_model[df_model.X3P_.isnull()][{\"X3P\", \"X3PA\", \"X3P_\"}]"
   ]
  },
  {
   "cell_type": "markdown",
   "metadata": {},
   "source": [
    "Tıpkı \"FG_\" sütununda ki eksik veriler olduğu gibi bu eksik verilerde aslında 0 olması gereken eksik veriler. Eksik verileri 0 ile dolduruyoruz."
   ]
  },
  {
   "cell_type": "code",
   "execution_count": 26,
   "metadata": {},
   "outputs": [],
   "source": [
    "df_model.X3P_ = df_model.X3P_.fillna(0)"
   ]
  },
  {
   "cell_type": "code",
   "execution_count": 27,
   "metadata": {},
   "outputs": [
    {
     "data": {
      "text/html": [
       "<div>\n",
       "<style scoped>\n",
       "    .dataframe tbody tr th:only-of-type {\n",
       "        vertical-align: middle;\n",
       "    }\n",
       "\n",
       "    .dataframe tbody tr th {\n",
       "        vertical-align: top;\n",
       "    }\n",
       "\n",
       "    .dataframe thead th {\n",
       "        text-align: right;\n",
       "    }\n",
       "</style>\n",
       "<table border=\"1\" class=\"dataframe\">\n",
       "  <thead>\n",
       "    <tr style=\"text-align: right;\">\n",
       "      <th></th>\n",
       "      <th>X3PA</th>\n",
       "      <th>X3P_</th>\n",
       "      <th>X3P</th>\n",
       "    </tr>\n",
       "  </thead>\n",
       "  <tbody>\n",
       "    <tr>\n",
       "      <th>142</th>\n",
       "      <td>0.2</td>\n",
       "      <td>1.0</td>\n",
       "      <td>0.2</td>\n",
       "    </tr>\n",
       "    <tr>\n",
       "      <th>435</th>\n",
       "      <td>0.3</td>\n",
       "      <td>1.0</td>\n",
       "      <td>0.3</td>\n",
       "    </tr>\n",
       "  </tbody>\n",
       "</table>\n",
       "</div>"
      ],
      "text/plain": [
       "     X3PA  X3P_  X3P\n",
       "142   0.2   1.0  0.2\n",
       "435   0.3   1.0  0.3"
      ]
     },
     "execution_count": 27,
     "metadata": {},
     "output_type": "execute_result"
    }
   ],
   "source": [
    "df_model[df_model.X3P_ == 1][{\"X3P\", \"X3PA\", \"X3P_\"}]"
   ]
  },
  {
   "cell_type": "markdown",
   "metadata": {},
   "source": [
    "Burada da az deneme yapıldığından ötürü bu orana ulaşıldığı gözlemleniyor. Bu modelin öğrenmesini etkileyebilecek, modeli yanıltabilecek bir durum. Bu değerleri ortalama değerlere eşitliyoruz."
   ]
  },
  {
   "cell_type": "code",
   "execution_count": 28,
   "metadata": {},
   "outputs": [
    {
     "name": "stderr",
     "output_type": "stream",
     "text": [
      "D:\\Anaconda\\lib\\site-packages\\ipykernel_launcher.py:1: SettingWithCopyWarning: \n",
      "A value is trying to be set on a copy of a slice from a DataFrame\n",
      "\n",
      "See the caveats in the documentation: https://pandas.pydata.org/pandas-docs/stable/user_guide/indexing.html#returning-a-view-versus-a-copy\n",
      "  \"\"\"Entry point for launching an IPython kernel.\n"
     ]
    }
   ],
   "source": [
    "df_model.X3P_[df_model.X3P_ == 1] = df_model[\"X3P_\"].mean()"
   ]
  },
  {
   "cell_type": "code",
   "execution_count": 29,
   "metadata": {},
   "outputs": [
    {
     "name": "stdout",
     "output_type": "stream",
     "text": [
      "Eksik veri toplamı: 0\n"
     ]
    },
    {
     "data": {
      "text/plain": [
       "count    474.000000\n",
       "mean       2.438397\n",
       "std        1.845021\n",
       "min        0.000000\n",
       "25%        1.100000\n",
       "50%        1.900000\n",
       "75%        3.300000\n",
       "max        9.300000\n",
       "Name: X2P, dtype: float64"
      ]
     },
     "execution_count": 29,
     "metadata": {},
     "output_type": "execute_result"
    }
   ],
   "source": [
    "print(\"Eksik veri toplamı:\", df_model.X2P.isnull().sum())\n",
    "df_model.X2P.describe()"
   ]
  },
  {
   "cell_type": "markdown",
   "metadata": {},
   "source": [
    "Oyuncunun maç başına ortalama başarılı olduğu 2'lik atış sayısı."
   ]
  },
  {
   "cell_type": "code",
   "execution_count": 30,
   "metadata": {
    "scrolled": true
   },
   "outputs": [
    {
     "name": "stdout",
     "output_type": "stream",
     "text": [
      "Eksik veri toplamı: 0\n"
     ]
    },
    {
     "data": {
      "text/plain": [
       "count    474.000000\n",
       "mean       4.740506\n",
       "std        3.387935\n",
       "min        0.000000\n",
       "25%        2.200000\n",
       "50%        3.750000\n",
       "75%        6.675000\n",
       "max       16.500000\n",
       "Name: X2PA, dtype: float64"
      ]
     },
     "execution_count": 30,
     "metadata": {},
     "output_type": "execute_result"
    }
   ],
   "source": [
    "print(\"Eksik veri toplamı:\", df_model.X2PA.isnull().sum())\n",
    "df_model.X2PA.describe()"
   ]
  },
  {
   "cell_type": "markdown",
   "metadata": {},
   "source": [
    "Oyuncunun maç başına denediği ortalama 2'lik atış sayısı."
   ]
  },
  {
   "cell_type": "code",
   "execution_count": 31,
   "metadata": {},
   "outputs": [
    {
     "name": "stdout",
     "output_type": "stream",
     "text": [
      "Eksik veri toplamı: 4\n"
     ]
    },
    {
     "data": {
      "text/plain": [
       "count    470.000000\n",
       "mean       0.502683\n",
       "std        0.087634\n",
       "min        0.000000\n",
       "25%        0.459500\n",
       "50%        0.503500\n",
       "75%        0.552750\n",
       "max        0.727000\n",
       "Name: X2P_, dtype: float64"
      ]
     },
     "execution_count": 31,
     "metadata": {},
     "output_type": "execute_result"
    }
   ],
   "source": [
    "df_model = df_model.rename(columns = {\"X2P.\" : \"X2P_\"})\n",
    "\n",
    "print(\"Eksik veri toplamı:\", df_model.X2P_.isnull().sum())\n",
    "df_model.X2P_.describe()"
   ]
  },
  {
   "cell_type": "markdown",
   "metadata": {},
   "source": [
    "2'lik atış yüzdesi. 4 tane eksik veri var bunlara bakacağız."
   ]
  },
  {
   "cell_type": "code",
   "execution_count": 32,
   "metadata": {
    "scrolled": true
   },
   "outputs": [
    {
     "data": {
      "text/html": [
       "<div>\n",
       "<style scoped>\n",
       "    .dataframe tbody tr th:only-of-type {\n",
       "        vertical-align: middle;\n",
       "    }\n",
       "\n",
       "    .dataframe tbody tr th {\n",
       "        vertical-align: top;\n",
       "    }\n",
       "\n",
       "    .dataframe thead th {\n",
       "        text-align: right;\n",
       "    }\n",
       "</style>\n",
       "<table border=\"1\" class=\"dataframe\">\n",
       "  <thead>\n",
       "    <tr style=\"text-align: right;\">\n",
       "      <th></th>\n",
       "      <th>X2P_</th>\n",
       "      <th>X2P</th>\n",
       "      <th>X2PA</th>\n",
       "    </tr>\n",
       "  </thead>\n",
       "  <tbody>\n",
       "    <tr>\n",
       "      <th>120</th>\n",
       "      <td>NaN</td>\n",
       "      <td>0.0</td>\n",
       "      <td>0.0</td>\n",
       "    </tr>\n",
       "    <tr>\n",
       "      <th>155</th>\n",
       "      <td>NaN</td>\n",
       "      <td>0.0</td>\n",
       "      <td>0.0</td>\n",
       "    </tr>\n",
       "    <tr>\n",
       "      <th>454</th>\n",
       "      <td>NaN</td>\n",
       "      <td>0.0</td>\n",
       "      <td>0.0</td>\n",
       "    </tr>\n",
       "    <tr>\n",
       "      <th>471</th>\n",
       "      <td>NaN</td>\n",
       "      <td>0.0</td>\n",
       "      <td>0.0</td>\n",
       "    </tr>\n",
       "  </tbody>\n",
       "</table>\n",
       "</div>"
      ],
      "text/plain": [
       "     X2P_  X2P  X2PA\n",
       "120   NaN  0.0   0.0\n",
       "155   NaN  0.0   0.0\n",
       "454   NaN  0.0   0.0\n",
       "471   NaN  0.0   0.0"
      ]
     },
     "execution_count": 32,
     "metadata": {},
     "output_type": "execute_result"
    }
   ],
   "source": [
    "df_model[df_model.X2P_.isnull()][{\"X2P\", \"X2PA\", \"X2P_\"}]"
   ]
  },
  {
   "cell_type": "markdown",
   "metadata": {},
   "source": [
    "Bu eksik verilerde aslında 0 olması gereken veriler bu verileri de 0 yapıyoruz."
   ]
  },
  {
   "cell_type": "code",
   "execution_count": 33,
   "metadata": {},
   "outputs": [],
   "source": [
    "df_model.X2P_ = df_model.X2P_.fillna(0)"
   ]
  },
  {
   "cell_type": "code",
   "execution_count": 34,
   "metadata": {
    "scrolled": true
   },
   "outputs": [
    {
     "name": "stdout",
     "output_type": "stream",
     "text": [
      "Eksik veri toplamı: 1\n"
     ]
    },
    {
     "data": {
      "text/plain": [
       "count    473.000000\n",
       "mean       0.507053\n",
       "std        0.087089\n",
       "min        0.000000\n",
       "25%        0.477000\n",
       "50%        0.513000\n",
       "75%        0.553000\n",
       "max        0.833000\n",
       "Name: eFG_, dtype: float64"
      ]
     },
     "execution_count": 34,
     "metadata": {},
     "output_type": "execute_result"
    }
   ],
   "source": [
    "df_model = df_model.rename(columns = {\"eFG.\" : \"eFG_\"})\n",
    "\n",
    "print(\"Eksik veri toplamı:\", df_model.eFG_.isnull().sum())\n",
    "df_model.eFG_.describe()"
   ]
  },
  {
   "cell_type": "markdown",
   "metadata": {},
   "source": [
    "\"Effective Field Goal Percentage\" diye geçen bir istatistik bu da. Tam olarak neyi ifade ettiğini çözemedim ben. Ama eksik veri var buna bakacağız."
   ]
  },
  {
   "cell_type": "code",
   "execution_count": 35,
   "metadata": {},
   "outputs": [
    {
     "data": {
      "text/html": [
       "<div>\n",
       "<style scoped>\n",
       "    .dataframe tbody tr th:only-of-type {\n",
       "        vertical-align: middle;\n",
       "    }\n",
       "\n",
       "    .dataframe tbody tr th {\n",
       "        vertical-align: top;\n",
       "    }\n",
       "\n",
       "    .dataframe thead th {\n",
       "        text-align: right;\n",
       "    }\n",
       "</style>\n",
       "<table border=\"1\" class=\"dataframe\">\n",
       "  <thead>\n",
       "    <tr style=\"text-align: right;\">\n",
       "      <th></th>\n",
       "      <th>X2P_</th>\n",
       "      <th>X3P_</th>\n",
       "      <th>X2PA</th>\n",
       "      <th>X3PA</th>\n",
       "      <th>X3P</th>\n",
       "      <th>X2P</th>\n",
       "      <th>eFG_</th>\n",
       "    </tr>\n",
       "  </thead>\n",
       "  <tbody>\n",
       "    <tr>\n",
       "      <th>155</th>\n",
       "      <td>0.0</td>\n",
       "      <td>0.0</td>\n",
       "      <td>0.0</td>\n",
       "      <td>0.0</td>\n",
       "      <td>0.0</td>\n",
       "      <td>0.0</td>\n",
       "      <td>NaN</td>\n",
       "    </tr>\n",
       "  </tbody>\n",
       "</table>\n",
       "</div>"
      ],
      "text/plain": [
       "     X2P_  X3P_  X2PA  X3PA  X3P  X2P  eFG_\n",
       "155   0.0   0.0   0.0   0.0  0.0  0.0   NaN"
      ]
     },
     "execution_count": 35,
     "metadata": {},
     "output_type": "execute_result"
    }
   ],
   "source": [
    "df_model[df_model.eFG_.isnull()][{\"X2P\", \"X2PA\", \"X2P_\",\"X3P\", \"X3PA\", \"X3P_\", \"eFG_\"}]"
   ]
  },
  {
   "cell_type": "markdown",
   "metadata": {},
   "source": [
    "Buradaki eksik verilerde aslında 0 olması gereken veriler bunları da 0'a eşitliyoruz."
   ]
  },
  {
   "cell_type": "code",
   "execution_count": 36,
   "metadata": {},
   "outputs": [],
   "source": [
    "df_model.eFG_ = df_model.eFG_.fillna(0)"
   ]
  },
  {
   "cell_type": "code",
   "execution_count": 37,
   "metadata": {},
   "outputs": [
    {
     "name": "stdout",
     "output_type": "stream",
     "text": [
      "Eksik veri toplamı: 0\n"
     ]
    },
    {
     "data": {
      "text/plain": [
       "count    474.000000\n",
       "mean       1.439030\n",
       "std        1.338808\n",
       "min        0.000000\n",
       "25%        0.500000\n",
       "50%        1.000000\n",
       "75%        1.900000\n",
       "max        9.700000\n",
       "Name: FT, dtype: float64"
      ]
     },
     "execution_count": 37,
     "metadata": {},
     "output_type": "execute_result"
    }
   ],
   "source": [
    "print(\"Eksik veri toplamı:\", df_model.FT.isnull().sum())\n",
    "df_model.FT.describe()"
   ]
  },
  {
   "cell_type": "markdown",
   "metadata": {},
   "source": [
    "Oyuncunun maç başına başarılı olduğu ortalama serbest atış sayısı."
   ]
  },
  {
   "cell_type": "code",
   "execution_count": 38,
   "metadata": {},
   "outputs": [
    {
     "name": "stdout",
     "output_type": "stream",
     "text": [
      "Eksik veri toplamı: 0\n"
     ]
    },
    {
     "data": {
      "text/plain": [
       "count    474.000000\n",
       "mean       1.900211\n",
       "std        1.667631\n",
       "min        0.000000\n",
       "25%        0.800000\n",
       "50%        1.400000\n",
       "75%        2.500000\n",
       "max       11.000000\n",
       "Name: FTA, dtype: float64"
      ]
     },
     "execution_count": 38,
     "metadata": {},
     "output_type": "execute_result"
    }
   ],
   "source": [
    "print(\"Eksik veri toplamı:\", df_model.FTA.isnull().sum())\n",
    "df_model.FTA.describe()"
   ]
  },
  {
   "cell_type": "markdown",
   "metadata": {},
   "source": [
    "Oyuncunun ortalama olarak bir maçta denediği serbest atış sayısı. Sıkıntı görünmüyor."
   ]
  },
  {
   "cell_type": "code",
   "execution_count": 39,
   "metadata": {},
   "outputs": [
    {
     "name": "stdout",
     "output_type": "stream",
     "text": [
      "Eksik veri toplamı: 13\n"
     ]
    },
    {
     "data": {
      "text/plain": [
       "count    461.000000\n",
       "mean       0.737677\n",
       "std        0.125980\n",
       "min        0.000000\n",
       "25%        0.682000\n",
       "50%        0.758000\n",
       "75%        0.820000\n",
       "max        1.000000\n",
       "Name: FT_, dtype: float64"
      ]
     },
     "execution_count": 39,
     "metadata": {},
     "output_type": "execute_result"
    }
   ],
   "source": [
    "df_model = df_model.rename(columns = {\"FT.\" : \"FT_\"})\n",
    "\n",
    "print(\"Eksik veri toplamı:\", df_model.FT_.isnull().sum())\n",
    "df_model.FT_.describe()"
   ]
  },
  {
   "cell_type": "markdown",
   "metadata": {},
   "source": [
    "Serbest atış yüzdesi. 13 eksik veri var bunlara bakacağız. Oranın %100 olması aykırı bir durum buna bakacağız."
   ]
  },
  {
   "cell_type": "code",
   "execution_count": 40,
   "metadata": {
    "scrolled": false
   },
   "outputs": [
    {
     "data": {
      "text/html": [
       "<div>\n",
       "<style scoped>\n",
       "    .dataframe tbody tr th:only-of-type {\n",
       "        vertical-align: middle;\n",
       "    }\n",
       "\n",
       "    .dataframe tbody tr th {\n",
       "        vertical-align: top;\n",
       "    }\n",
       "\n",
       "    .dataframe thead th {\n",
       "        text-align: right;\n",
       "    }\n",
       "</style>\n",
       "<table border=\"1\" class=\"dataframe\">\n",
       "  <thead>\n",
       "    <tr style=\"text-align: right;\">\n",
       "      <th></th>\n",
       "      <th>FT_</th>\n",
       "      <th>FT</th>\n",
       "      <th>FTA</th>\n",
       "    </tr>\n",
       "  </thead>\n",
       "  <tbody>\n",
       "    <tr>\n",
       "      <th>91</th>\n",
       "      <td>NaN</td>\n",
       "      <td>0.0</td>\n",
       "      <td>0.0</td>\n",
       "    </tr>\n",
       "    <tr>\n",
       "      <th>120</th>\n",
       "      <td>NaN</td>\n",
       "      <td>0.0</td>\n",
       "      <td>0.0</td>\n",
       "    </tr>\n",
       "    <tr>\n",
       "      <th>142</th>\n",
       "      <td>NaN</td>\n",
       "      <td>0.0</td>\n",
       "      <td>0.0</td>\n",
       "    </tr>\n",
       "    <tr>\n",
       "      <th>155</th>\n",
       "      <td>NaN</td>\n",
       "      <td>0.0</td>\n",
       "      <td>0.0</td>\n",
       "    </tr>\n",
       "    <tr>\n",
       "      <th>173</th>\n",
       "      <td>NaN</td>\n",
       "      <td>0.0</td>\n",
       "      <td>0.0</td>\n",
       "    </tr>\n",
       "    <tr>\n",
       "      <th>185</th>\n",
       "      <td>NaN</td>\n",
       "      <td>0.0</td>\n",
       "      <td>0.0</td>\n",
       "    </tr>\n",
       "    <tr>\n",
       "      <th>210</th>\n",
       "      <td>NaN</td>\n",
       "      <td>0.0</td>\n",
       "      <td>0.0</td>\n",
       "    </tr>\n",
       "    <tr>\n",
       "      <th>226</th>\n",
       "      <td>NaN</td>\n",
       "      <td>0.0</td>\n",
       "      <td>0.0</td>\n",
       "    </tr>\n",
       "    <tr>\n",
       "      <th>435</th>\n",
       "      <td>NaN</td>\n",
       "      <td>0.0</td>\n",
       "      <td>0.0</td>\n",
       "    </tr>\n",
       "    <tr>\n",
       "      <th>440</th>\n",
       "      <td>NaN</td>\n",
       "      <td>0.0</td>\n",
       "      <td>0.0</td>\n",
       "    </tr>\n",
       "    <tr>\n",
       "      <th>454</th>\n",
       "      <td>NaN</td>\n",
       "      <td>0.0</td>\n",
       "      <td>0.0</td>\n",
       "    </tr>\n",
       "    <tr>\n",
       "      <th>466</th>\n",
       "      <td>NaN</td>\n",
       "      <td>0.0</td>\n",
       "      <td>0.0</td>\n",
       "    </tr>\n",
       "    <tr>\n",
       "      <th>471</th>\n",
       "      <td>NaN</td>\n",
       "      <td>0.0</td>\n",
       "      <td>0.0</td>\n",
       "    </tr>\n",
       "  </tbody>\n",
       "</table>\n",
       "</div>"
      ],
      "text/plain": [
       "     FT_   FT  FTA\n",
       "91   NaN  0.0  0.0\n",
       "120  NaN  0.0  0.0\n",
       "142  NaN  0.0  0.0\n",
       "155  NaN  0.0  0.0\n",
       "173  NaN  0.0  0.0\n",
       "185  NaN  0.0  0.0\n",
       "210  NaN  0.0  0.0\n",
       "226  NaN  0.0  0.0\n",
       "435  NaN  0.0  0.0\n",
       "440  NaN  0.0  0.0\n",
       "454  NaN  0.0  0.0\n",
       "466  NaN  0.0  0.0\n",
       "471  NaN  0.0  0.0"
      ]
     },
     "execution_count": 40,
     "metadata": {},
     "output_type": "execute_result"
    }
   ],
   "source": [
    "df_model[df_model.FT_.isnull()][{\"FT_\", \"FT\", \"FTA\"}]"
   ]
  },
  {
   "cell_type": "markdown",
   "metadata": {},
   "source": [
    "Eksik verileri sıfıra eşitliyoruz."
   ]
  },
  {
   "cell_type": "code",
   "execution_count": 41,
   "metadata": {},
   "outputs": [],
   "source": [
    "df_model.FT_ = df_model.FT_.fillna(0)"
   ]
  },
  {
   "cell_type": "code",
   "execution_count": 42,
   "metadata": {},
   "outputs": [
    {
     "data": {
      "text/html": [
       "<div>\n",
       "<style scoped>\n",
       "    .dataframe tbody tr th:only-of-type {\n",
       "        vertical-align: middle;\n",
       "    }\n",
       "\n",
       "    .dataframe tbody tr th {\n",
       "        vertical-align: top;\n",
       "    }\n",
       "\n",
       "    .dataframe thead th {\n",
       "        text-align: right;\n",
       "    }\n",
       "</style>\n",
       "<table border=\"1\" class=\"dataframe\">\n",
       "  <thead>\n",
       "    <tr style=\"text-align: right;\">\n",
       "      <th></th>\n",
       "      <th>FT_</th>\n",
       "      <th>FT</th>\n",
       "      <th>FTA</th>\n",
       "    </tr>\n",
       "  </thead>\n",
       "  <tbody>\n",
       "    <tr>\n",
       "      <th>101</th>\n",
       "      <td>1.0</td>\n",
       "      <td>0.7</td>\n",
       "      <td>0.7</td>\n",
       "    </tr>\n",
       "    <tr>\n",
       "      <th>152</th>\n",
       "      <td>1.0</td>\n",
       "      <td>0.1</td>\n",
       "      <td>0.1</td>\n",
       "    </tr>\n",
       "    <tr>\n",
       "      <th>199</th>\n",
       "      <td>1.0</td>\n",
       "      <td>0.3</td>\n",
       "      <td>0.3</td>\n",
       "    </tr>\n",
       "    <tr>\n",
       "      <th>295</th>\n",
       "      <td>1.0</td>\n",
       "      <td>0.1</td>\n",
       "      <td>0.1</td>\n",
       "    </tr>\n",
       "    <tr>\n",
       "      <th>340</th>\n",
       "      <td>1.0</td>\n",
       "      <td>0.1</td>\n",
       "      <td>0.1</td>\n",
       "    </tr>\n",
       "    <tr>\n",
       "      <th>443</th>\n",
       "      <td>1.0</td>\n",
       "      <td>0.2</td>\n",
       "      <td>0.2</td>\n",
       "    </tr>\n",
       "  </tbody>\n",
       "</table>\n",
       "</div>"
      ],
      "text/plain": [
       "     FT_   FT  FTA\n",
       "101  1.0  0.7  0.7\n",
       "152  1.0  0.1  0.1\n",
       "199  1.0  0.3  0.3\n",
       "295  1.0  0.1  0.1\n",
       "340  1.0  0.1  0.1\n",
       "443  1.0  0.2  0.2"
      ]
     },
     "execution_count": 42,
     "metadata": {},
     "output_type": "execute_result"
    }
   ],
   "source": [
    "df_model[df_model.FT_ == 1][{\"FT_\", \"FT\", \"FTA\"}]"
   ]
  },
  {
   "cell_type": "markdown",
   "metadata": {},
   "source": [
    "Yine az deneme yapıldığı için bu oranı yakalamış olduğu görülüyor. Bu modelimizi yanıltabilecek bir durum. Bu değerleri ortalamaya eşitliyoruz."
   ]
  },
  {
   "cell_type": "code",
   "execution_count": 43,
   "metadata": {},
   "outputs": [
    {
     "name": "stderr",
     "output_type": "stream",
     "text": [
      "D:\\Anaconda\\lib\\site-packages\\ipykernel_launcher.py:1: SettingWithCopyWarning: \n",
      "A value is trying to be set on a copy of a slice from a DataFrame\n",
      "\n",
      "See the caveats in the documentation: https://pandas.pydata.org/pandas-docs/stable/user_guide/indexing.html#returning-a-view-versus-a-copy\n",
      "  \"\"\"Entry point for launching an IPython kernel.\n"
     ]
    }
   ],
   "source": [
    "df_model.FT_[df_model.FT_ == 1] = df_model[\"FT_\"].mean()"
   ]
  },
  {
   "cell_type": "code",
   "execution_count": 44,
   "metadata": {
    "scrolled": false
   },
   "outputs": [
    {
     "name": "stdout",
     "output_type": "stream",
     "text": [
      "Eksik veri toplamı: 0\n"
     ]
    },
    {
     "data": {
      "text/plain": [
       "count    474.000000\n",
       "mean       0.876371\n",
       "std        0.799068\n",
       "min        0.000000\n",
       "25%        0.300000\n",
       "50%        0.700000\n",
       "75%        1.100000\n",
       "max        5.400000\n",
       "Name: ORB, dtype: float64"
      ]
     },
     "execution_count": 44,
     "metadata": {},
     "output_type": "execute_result"
    }
   ],
   "source": [
    "print(\"Eksik veri toplamı:\", df_model.ORB.isnull().sum())\n",
    "df_model.ORB.describe()"
   ]
  },
  {
   "cell_type": "markdown",
   "metadata": {},
   "source": [
    "Maç başı alınan hücum ribaund sayısı. Sıkıntı görünmüyor."
   ]
  },
  {
   "cell_type": "code",
   "execution_count": 45,
   "metadata": {},
   "outputs": [
    {
     "name": "stdout",
     "output_type": "stream",
     "text": [
      "Eksik veri toplamı: 0\n"
     ]
    },
    {
     "data": {
      "text/plain": [
       "count    474.000000\n",
       "mean       2.910338\n",
       "std        1.890423\n",
       "min        0.000000\n",
       "25%        1.600000\n",
       "50%        2.500000\n",
       "75%        3.700000\n",
       "max       11.100000\n",
       "Name: DRB, dtype: float64"
      ]
     },
     "execution_count": 45,
     "metadata": {},
     "output_type": "execute_result"
    }
   ],
   "source": [
    "print(\"Eksik veri toplamı:\", df_model.DRB.isnull().sum())\n",
    "df_model.DRB.describe()"
   ]
  },
  {
   "cell_type": "markdown",
   "metadata": {},
   "source": [
    "Maç başı alınan savunma ribaund sayısı. Sıkıntı görünmüyor."
   ]
  },
  {
   "cell_type": "code",
   "execution_count": 46,
   "metadata": {
    "scrolled": true
   },
   "outputs": [
    {
     "name": "stdout",
     "output_type": "stream",
     "text": [
      "Eksik veri toplamı: 0\n"
     ]
    },
    {
     "data": {
      "text/plain": [
       "count    474.000000\n",
       "mean       3.784599\n",
       "std        2.534897\n",
       "min        0.000000\n",
       "25%        2.000000\n",
       "50%        3.250000\n",
       "75%        4.800000\n",
       "max       15.600000\n",
       "Name: TRB, dtype: float64"
      ]
     },
     "execution_count": 46,
     "metadata": {},
     "output_type": "execute_result"
    }
   ],
   "source": [
    "print(\"Eksik veri toplamı:\", df_model.TRB.isnull().sum())\n",
    "df_model.TRB.describe()"
   ]
  },
  {
   "cell_type": "markdown",
   "metadata": {},
   "source": [
    "Maç başı alınan toplam ribaund sayısı. Sıkıntı görünmüyor."
   ]
  },
  {
   "cell_type": "code",
   "execution_count": 47,
   "metadata": {},
   "outputs": [
    {
     "name": "stdout",
     "output_type": "stream",
     "text": [
      "Eksik veri toplamı: 0\n"
     ]
    },
    {
     "data": {
      "text/plain": [
       "count    474.000000\n",
       "mean       2.029325\n",
       "std        1.810611\n",
       "min        0.000000\n",
       "25%        0.800000\n",
       "50%        1.400000\n",
       "75%        2.600000\n",
       "max       10.700000\n",
       "Name: AST, dtype: float64"
      ]
     },
     "execution_count": 47,
     "metadata": {},
     "output_type": "execute_result"
    }
   ],
   "source": [
    "print(\"Eksik veri toplamı:\", df_model.AST.isnull().sum())\n",
    "df_model.AST.describe()"
   ]
  },
  {
   "cell_type": "markdown",
   "metadata": {},
   "source": [
    "Maç başı yapılan asist sayısı. Sıkıntı görünmüyor."
   ]
  },
  {
   "cell_type": "code",
   "execution_count": 48,
   "metadata": {},
   "outputs": [
    {
     "name": "stdout",
     "output_type": "stream",
     "text": [
      "Eksik veri toplamı: 0\n"
     ]
    },
    {
     "data": {
      "text/plain": [
       "count    474.000000\n",
       "mean       0.641139\n",
       "std        0.404017\n",
       "min        0.000000\n",
       "25%        0.300000\n",
       "50%        0.600000\n",
       "75%        0.900000\n",
       "max        2.200000\n",
       "Name: STL, dtype: float64"
      ]
     },
     "execution_count": 48,
     "metadata": {},
     "output_type": "execute_result"
    }
   ],
   "source": [
    "print(\"Eksik veri toplamı:\", df_model.STL.isnull().sum())\n",
    "df_model.STL.describe()"
   ]
  },
  {
   "cell_type": "markdown",
   "metadata": {},
   "source": [
    "Oyuncunun maç başı çaldığı ortalama top sayısı. Sıkıntı görünmüyor."
   ]
  },
  {
   "cell_type": "code",
   "execution_count": 49,
   "metadata": {},
   "outputs": [
    {
     "name": "stdout",
     "output_type": "stream",
     "text": [
      "Eksik veri toplamı: 0\n"
     ]
    },
    {
     "data": {
      "text/plain": [
       "count    474.000000\n",
       "mean       0.412658\n",
       "std        0.410651\n",
       "min        0.000000\n",
       "25%        0.100000\n",
       "50%        0.300000\n",
       "75%        0.500000\n",
       "max        2.700000\n",
       "Name: BLK, dtype: float64"
      ]
     },
     "execution_count": 49,
     "metadata": {},
     "output_type": "execute_result"
    }
   ],
   "source": [
    "print(\"Eksik veri toplamı:\", df_model.BLK.isnull().sum())\n",
    "df_model.BLK.describe()"
   ]
  },
  {
   "cell_type": "markdown",
   "metadata": {},
   "source": [
    "Oyuncunun maç başı yaptığı blok sayısı. Sıkıntı görünmüyor."
   ]
  },
  {
   "cell_type": "code",
   "execution_count": 50,
   "metadata": {},
   "outputs": [
    {
     "name": "stdout",
     "output_type": "stream",
     "text": [
      "Eksik veri toplamı: 0\n"
     ]
    },
    {
     "data": {
      "text/plain": [
       "count    474.000000\n",
       "mean       1.132278\n",
       "std        0.797136\n",
       "min        0.000000\n",
       "25%        0.600000\n",
       "50%        0.900000\n",
       "75%        1.500000\n",
       "max        5.000000\n",
       "Name: TOV, dtype: float64"
      ]
     },
     "execution_count": 50,
     "metadata": {},
     "output_type": "execute_result"
    }
   ],
   "source": [
    "print(\"Eksik veri toplamı:\", df_model.TOV.isnull().sum())\n",
    "df_model.TOV.describe()"
   ]
  },
  {
   "cell_type": "markdown",
   "metadata": {},
   "source": [
    "Ortalama top kaybı sayısı. Sıkıntı görünmüyor."
   ]
  },
  {
   "cell_type": "code",
   "execution_count": 51,
   "metadata": {},
   "outputs": [
    {
     "name": "stdout",
     "output_type": "stream",
     "text": [
      "Eksik veri toplamı: 0\n"
     ]
    },
    {
     "data": {
      "text/plain": [
       "count    474.000000\n",
       "mean       1.797679\n",
       "std        0.768551\n",
       "min        0.000000\n",
       "25%        1.300000\n",
       "50%        1.800000\n",
       "75%        2.300000\n",
       "max        3.800000\n",
       "Name: PF, dtype: float64"
      ]
     },
     "execution_count": 51,
     "metadata": {},
     "output_type": "execute_result"
    }
   ],
   "source": [
    "print(\"Eksik veri toplamı:\", df_model.PF.isnull().sum())\n",
    "df_model.PF.describe()"
   ]
  },
  {
   "cell_type": "markdown",
   "metadata": {},
   "source": [
    "Ortalama yapılan faul sayısı. Sıkıntı görünmüyor."
   ]
  },
  {
   "cell_type": "code",
   "execution_count": 52,
   "metadata": {},
   "outputs": [
    {
     "name": "stdout",
     "output_type": "stream",
     "text": [
      "Eksik veri toplamı: 0\n"
     ]
    },
    {
     "data": {
      "text/plain": [
       "count    474.000000\n",
       "mean       9.082700\n",
       "std        6.124207\n",
       "min        0.000000\n",
       "25%        4.625000\n",
       "50%        7.500000\n",
       "75%       12.100000\n",
       "max       36.100000\n",
       "Name: PTS, dtype: float64"
      ]
     },
     "execution_count": 52,
     "metadata": {},
     "output_type": "execute_result"
    }
   ],
   "source": [
    "print(\"Eksik veri toplamı:\", df_model.PTS.isnull().sum())\n",
    "df_model.PTS.describe()"
   ]
  },
  {
   "cell_type": "markdown",
   "metadata": {},
   "source": [
    "Ortalama atılan sayı. Sıkıntı görünmüyor."
   ]
  },
  {
   "cell_type": "code",
   "execution_count": 53,
   "metadata": {},
   "outputs": [
    {
     "name": "stdout",
     "output_type": "stream",
     "text": [
      "Eksik veri toplamı: 21\n"
     ]
    },
    {
     "data": {
      "text/plain": [
       "count    4.530000e+02\n",
       "mean     7.285359e+06\n",
       "std      8.153477e+06\n",
       "min      5.684500e+04\n",
       "25%      1.544951e+06\n",
       "50%      3.382000e+06\n",
       "75%      1.101123e+07\n",
       "max      3.745715e+07\n",
       "Name: Salary, dtype: float64"
      ]
     },
     "execution_count": 53,
     "metadata": {},
     "output_type": "execute_result"
    }
   ],
   "source": [
    "print(\"Eksik veri toplamı:\", df_model.Salary.isnull().sum())\n",
    "df_model.Salary.describe()"
   ]
  },
  {
   "cell_type": "markdown",
   "metadata": {},
   "source": [
    "Oyuncuların aldıkları maaş tutarı. 21 eksik verimiz var bunları ortalama ile dolduracağız."
   ]
  },
  {
   "cell_type": "code",
   "execution_count": 54,
   "metadata": {},
   "outputs": [
    {
     "name": "stderr",
     "output_type": "stream",
     "text": [
      "D:\\Anaconda\\lib\\site-packages\\ipykernel_launcher.py:1: SettingWithCopyWarning: \n",
      "A value is trying to be set on a copy of a slice from a DataFrame\n",
      "\n",
      "See the caveats in the documentation: https://pandas.pydata.org/pandas-docs/stable/user_guide/indexing.html#returning-a-view-versus-a-copy\n",
      "  \"\"\"Entry point for launching an IPython kernel.\n"
     ]
    }
   ],
   "source": [
    "df_model.Salary[df_model.Salary.isnull()] = df_model[\"Salary\"].mean()"
   ]
  },
  {
   "cell_type": "code",
   "execution_count": 55,
   "metadata": {
    "scrolled": false
   },
   "outputs": [
    {
     "name": "stdout",
     "output_type": "stream",
     "text": [
      "Eksik veri toplamı: 52\n"
     ]
    },
    {
     "data": {
      "text/plain": [
       "count      422.000000\n",
       "mean      1072.646666\n",
       "std       2220.339235\n",
       "min          1.142857\n",
       "25%        245.206164\n",
       "50%        459.175342\n",
       "75%       1003.144521\n",
       "max      34147.961644\n",
       "Name: mean_views, dtype: float64"
      ]
     },
     "execution_count": 55,
     "metadata": {},
     "output_type": "execute_result"
    }
   ],
   "source": [
    "print(\"Eksik veri toplamı:\", df_model.mean_views.isnull().sum())\n",
    "df_model.mean_views.describe()"
   ]
  },
  {
   "cell_type": "markdown",
   "metadata": {},
   "source": [
    "Oyuncunun Wikipedia'da günlük aldığı görüntülenme sayısı. Eksik veriler var bunları ortalama değere eşitleyeceğiz."
   ]
  },
  {
   "cell_type": "code",
   "execution_count": 56,
   "metadata": {
    "scrolled": true
   },
   "outputs": [
    {
     "name": "stderr",
     "output_type": "stream",
     "text": [
      "D:\\Anaconda\\lib\\site-packages\\ipykernel_launcher.py:1: SettingWithCopyWarning: \n",
      "A value is trying to be set on a copy of a slice from a DataFrame\n",
      "\n",
      "See the caveats in the documentation: https://pandas.pydata.org/pandas-docs/stable/user_guide/indexing.html#returning-a-view-versus-a-copy\n",
      "  \"\"\"Entry point for launching an IPython kernel.\n"
     ]
    }
   ],
   "source": [
    "df_model.mean_views[df_model.mean_views.isnull()] = df_model[\"mean_views\"].mean()"
   ]
  },
  {
   "cell_type": "code",
   "execution_count": 57,
   "metadata": {},
   "outputs": [
    {
     "name": "stdout",
     "output_type": "stream",
     "text": [
      "Eksik veri toplamı: 0\n"
     ]
    },
    {
     "data": {
      "text/plain": [
       "2018-19    474\n",
       "Name: Season, dtype: int64"
      ]
     },
     "execution_count": 57,
     "metadata": {},
     "output_type": "execute_result"
    }
   ],
   "source": [
    "print(\"Eksik veri toplamı:\", df_model.Season.isnull().sum())\n",
    "df_model[\"Season\"].value_counts()"
   ]
  },
  {
   "cell_type": "markdown",
   "metadata": {},
   "source": [
    "Oyuncunun oynadığı sezon bilgisi. Bizim bu veri setini içinden aldığımız veri aslında 3 sezonluk bir setiydi ancak bizim içinden kestiğimiz veri setinde sadece 1 sezon olduğu için bu sütun bir şey ifade etmiyor bundan dolayı sileceğiz bu sütunu."
   ]
  },
  {
   "cell_type": "code",
   "execution_count": 58,
   "metadata": {},
   "outputs": [],
   "source": [
    "df_model = df_model.drop(columns = \"Season\")"
   ]
  },
  {
   "cell_type": "code",
   "execution_count": 59,
   "metadata": {},
   "outputs": [
    {
     "name": "stdout",
     "output_type": "stream",
     "text": [
      "Eksik veri toplamı: 0\n"
     ]
    },
    {
     "data": {
      "text/plain": [
       "West    238\n",
       "Est     236\n",
       "Name: Conference, dtype: int64"
      ]
     },
     "execution_count": 59,
     "metadata": {},
     "output_type": "execute_result"
    }
   ],
   "source": [
    "print(\"Eksik veri toplamı:\", df_model.Conference.isnull().sum())\n",
    "df_model[\"Conference\"].value_counts()"
   ]
  },
  {
   "cell_type": "markdown",
   "metadata": {},
   "source": [
    "Oyuncunun oynadığı konferans. Tıpkı takım sütununu sildiğimiz sebepten ötürü bu sütunu da siliyoruz."
   ]
  },
  {
   "cell_type": "code",
   "execution_count": 60,
   "metadata": {},
   "outputs": [],
   "source": [
    "df_model = df_model.drop(columns = \"Conference\")"
   ]
  },
  {
   "cell_type": "code",
   "execution_count": 61,
   "metadata": {},
   "outputs": [
    {
     "name": "stdout",
     "output_type": "stream",
     "text": [
      "Eksik veri toplamı: 0\n"
     ]
    },
    {
     "data": {
      "text/plain": [
       "Front    255\n",
       "Back     219\n",
       "Name: Role, dtype: int64"
      ]
     },
     "execution_count": 61,
     "metadata": {},
     "output_type": "execute_result"
    }
   ],
   "source": [
    "print(\"Eksik veri toplamı:\", df_model.Role.isnull().sum())\n",
    "df_model[\"Role\"].value_counts()"
   ]
  },
  {
   "cell_type": "markdown",
   "metadata": {},
   "source": [
    "Oyuncunun oynadığı rol ile alakalı ön veya geri şeklinde bize bilgi veriyor. Label Encoder yapacağız."
   ]
  },
  {
   "cell_type": "code",
   "execution_count": 62,
   "metadata": {},
   "outputs": [],
   "source": [
    "lbe = LabelEncoder()\n",
    "\n",
    "df_model[\"Role\"] = lbe.fit_transform(df_model[\"Role\"])\n",
    "\n",
    "#Front:1 Back:0 olacak şekilde dönüşüm yaptık."
   ]
  },
  {
   "cell_type": "code",
   "execution_count": 63,
   "metadata": {},
   "outputs": [
    {
     "name": "stdout",
     "output_type": "stream",
     "text": [
      "Eksik veri toplamı: 0\n"
     ]
    },
    {
     "data": {
      "text/plain": [
       "count    4.740000e+02\n",
       "mean     1.805977e+05\n",
       "std      6.089716e+05\n",
       "min      1.360000e+02\n",
       "25%      4.243250e+03\n",
       "50%      1.310800e+04\n",
       "75%      6.549150e+04\n",
       "max      4.620809e+06\n",
       "Name: Fvot, dtype: float64"
      ]
     },
     "execution_count": 63,
     "metadata": {},
     "output_type": "execute_result"
    }
   ],
   "source": [
    "print(\"Eksik veri toplamı:\", df_model.Fvot.isnull().sum())\n",
    "df_model.Fvot.describe()"
   ]
  },
  {
   "cell_type": "markdown",
   "metadata": {},
   "source": [
    "Bunun da tam olarak neyi ifade ettiğini anlamadım. Bir sıkıntı görünmüyor."
   ]
  },
  {
   "cell_type": "code",
   "execution_count": 64,
   "metadata": {},
   "outputs": [
    {
     "name": "stdout",
     "output_type": "stream",
     "text": [
      "Eksik veri toplamı: 0\n"
     ]
    },
    {
     "data": {
      "text/plain": [
       "count    474.000000\n",
       "mean      61.890295\n",
       "std       36.443541\n",
       "min        1.000000\n",
       "25%       31.000000\n",
       "50%       61.000000\n",
       "75%       92.000000\n",
       "max      138.000000\n",
       "Name: FRank, dtype: float64"
      ]
     },
     "execution_count": 64,
     "metadata": {},
     "output_type": "execute_result"
    }
   ],
   "source": [
    "print(\"Eksik veri toplamı:\", df_model.FRank.isnull().sum())\n",
    "df_model.FRank.describe()"
   ]
  },
  {
   "cell_type": "markdown",
   "metadata": {},
   "source": [
    "Bir sıkıntı görünmüyor."
   ]
  },
  {
   "cell_type": "code",
   "execution_count": 65,
   "metadata": {},
   "outputs": [
    {
     "name": "stdout",
     "output_type": "stream",
     "text": [
      "Eksik veri toplamı: 0\n"
     ]
    },
    {
     "data": {
      "text/plain": [
       "count    474.000000\n",
       "mean       7.651899\n",
       "std       26.768507\n",
       "min        0.000000\n",
       "25%        0.000000\n",
       "50%        1.000000\n",
       "75%        4.000000\n",
       "max      269.000000\n",
       "Name: Pvot, dtype: float64"
      ]
     },
     "execution_count": 65,
     "metadata": {},
     "output_type": "execute_result"
    }
   ],
   "source": [
    "print(\"Eksik veri toplamı:\", df_model.Pvot.isnull().sum())\n",
    "df_model.Pvot.describe()"
   ]
  },
  {
   "cell_type": "markdown",
   "metadata": {},
   "source": [
    "Bir sıkıntı görünmüyor."
   ]
  },
  {
   "cell_type": "code",
   "execution_count": 66,
   "metadata": {},
   "outputs": [
    {
     "name": "stdout",
     "output_type": "stream",
     "text": [
      "Eksik veri toplamı: 0\n"
     ]
    },
    {
     "data": {
      "text/plain": [
       "count    474.000000\n",
       "mean      47.968354\n",
       "std       25.393667\n",
       "min        1.000000\n",
       "25%       26.000000\n",
       "50%       52.000000\n",
       "75%       61.000000\n",
       "max       88.000000\n",
       "Name: PRank, dtype: float64"
      ]
     },
     "execution_count": 66,
     "metadata": {},
     "output_type": "execute_result"
    }
   ],
   "source": [
    "print(\"Eksik veri toplamı:\", df_model.PRank.isnull().sum())\n",
    "df_model.PRank.describe()"
   ]
  },
  {
   "cell_type": "markdown",
   "metadata": {},
   "source": [
    "Bir sıkıntı görünmüyor."
   ]
  },
  {
   "cell_type": "code",
   "execution_count": 67,
   "metadata": {},
   "outputs": [
    {
     "name": "stdout",
     "output_type": "stream",
     "text": [
      "Eksik veri toplamı: 0\n"
     ]
    },
    {
     "data": {
      "text/plain": [
       "count    474.000000\n",
       "mean       2.109705\n",
       "std       12.920663\n",
       "min        0.000000\n",
       "25%        0.000000\n",
       "50%        0.000000\n",
       "75%        0.000000\n",
       "max      100.000000\n",
       "Name: Mvot, dtype: float64"
      ]
     },
     "execution_count": 67,
     "metadata": {},
     "output_type": "execute_result"
    }
   ],
   "source": [
    "print(\"Eksik veri toplamı:\", df_model.Mvot.isnull().sum())\n",
    "df_model.Mvot.describe()"
   ]
  },
  {
   "cell_type": "markdown",
   "metadata": {},
   "source": [
    "Bir sıkıntı görünmüyor."
   ]
  },
  {
   "cell_type": "code",
   "execution_count": 68,
   "metadata": {},
   "outputs": [
    {
     "name": "stdout",
     "output_type": "stream",
     "text": [
      "Eksik veri toplamı: 0\n"
     ]
    },
    {
     "data": {
      "text/plain": [
       "count    474.000000\n",
       "mean       7.078059\n",
       "std        1.250887\n",
       "min        1.000000\n",
       "25%        6.000000\n",
       "50%        7.000000\n",
       "75%        8.000000\n",
       "max        8.000000\n",
       "Name: MRank, dtype: float64"
      ]
     },
     "execution_count": 68,
     "metadata": {},
     "output_type": "execute_result"
    }
   ],
   "source": [
    "print(\"Eksik veri toplamı:\", df_model.MRank.isnull().sum())\n",
    "df_model.MRank.describe()"
   ]
  },
  {
   "cell_type": "markdown",
   "metadata": {},
   "source": [
    "Bir sıkıntı görünmüyor."
   ]
  },
  {
   "cell_type": "code",
   "execution_count": 69,
   "metadata": {},
   "outputs": [
    {
     "name": "stdout",
     "output_type": "stream",
     "text": [
      "Eksik veri toplamı: 0\n"
     ]
    },
    {
     "data": {
      "text/plain": [
       "count    474.000000\n",
       "mean      87.120464\n",
       "std       38.238135\n",
       "min        1.000000\n",
       "25%       58.575000\n",
       "50%       87.650000\n",
       "75%      116.950000\n",
       "max      161.500000\n",
       "Name: Score, dtype: float64"
      ]
     },
     "execution_count": 69,
     "metadata": {},
     "output_type": "execute_result"
    }
   ],
   "source": [
    "print(\"Eksik veri toplamı:\", df_model.Score.isnull().sum())\n",
    "df_model.Score.describe()"
   ]
  },
  {
   "cell_type": "markdown",
   "metadata": {},
   "source": [
    "Herhangi bir sıkıntı görünmüyor."
   ]
  },
  {
   "cell_type": "code",
   "execution_count": 70,
   "metadata": {},
   "outputs": [
    {
     "name": "stdout",
     "output_type": "stream",
     "text": [
      "Eksik veri toplamı: 0\n"
     ]
    },
    {
     "data": {
      "text/plain": [
       "No     448\n",
       "Yes     26\n",
       "Name: Play, dtype: int64"
      ]
     },
     "execution_count": 70,
     "metadata": {},
     "output_type": "execute_result"
    }
   ],
   "source": [
    "print(\"Eksik veri toplamı:\", df_model.Play.isnull().sum())\n",
    "df_model[\"Play\"].value_counts()"
   ]
  },
  {
   "cell_type": "markdown",
   "metadata": {},
   "source": [
    "Oyuncunun All-Star'da oynayıp oynamadığı hakkında bilgi veren değişkebn. Label Encoder yapacağız."
   ]
  },
  {
   "cell_type": "code",
   "execution_count": 71,
   "metadata": {},
   "outputs": [],
   "source": [
    "lbe = LabelEncoder()\n",
    "\n",
    "df_model[\"Play\"] = lbe.fit_transform(df_model[\"Play\"])\n",
    "\n",
    "#Yes:1 Nol:0 olacak şekilde dönüşüm yaptık."
   ]
  },
  {
   "cell_type": "code",
   "execution_count": 72,
   "metadata": {},
   "outputs": [
    {
     "data": {
      "text/html": [
       "<div>\n",
       "<style scoped>\n",
       "    .dataframe tbody tr th:only-of-type {\n",
       "        vertical-align: middle;\n",
       "    }\n",
       "\n",
       "    .dataframe tbody tr th {\n",
       "        vertical-align: top;\n",
       "    }\n",
       "\n",
       "    .dataframe thead th {\n",
       "        text-align: right;\n",
       "    }\n",
       "</style>\n",
       "<table border=\"1\" class=\"dataframe\">\n",
       "  <thead>\n",
       "    <tr style=\"text-align: right;\">\n",
       "      <th></th>\n",
       "      <th>Age</th>\n",
       "      <th>G</th>\n",
       "      <th>GS</th>\n",
       "      <th>MP</th>\n",
       "      <th>FG</th>\n",
       "      <th>FGA</th>\n",
       "      <th>FG_</th>\n",
       "      <th>X3P</th>\n",
       "      <th>X3PA</th>\n",
       "      <th>X3P_</th>\n",
       "      <th>...</th>\n",
       "      <th>PRank</th>\n",
       "      <th>Mvot</th>\n",
       "      <th>MRank</th>\n",
       "      <th>Score</th>\n",
       "      <th>Play</th>\n",
       "      <th>Pos1_C</th>\n",
       "      <th>Pos1_PF</th>\n",
       "      <th>Pos1_PG</th>\n",
       "      <th>Pos1_SF</th>\n",
       "      <th>Pos1_SG</th>\n",
       "    </tr>\n",
       "  </thead>\n",
       "  <tbody>\n",
       "    <tr>\n",
       "      <th>0</th>\n",
       "      <td>23</td>\n",
       "      <td>78</td>\n",
       "      <td>78</td>\n",
       "      <td>33.8</td>\n",
       "      <td>6.0</td>\n",
       "      <td>13.4</td>\n",
       "      <td>0.449</td>\n",
       "      <td>1.6</td>\n",
       "      <td>4.4</td>\n",
       "      <td>0.349</td>\n",
       "      <td>...</td>\n",
       "      <td>17</td>\n",
       "      <td>0</td>\n",
       "      <td>7</td>\n",
       "      <td>50.8</td>\n",
       "      <td>0</td>\n",
       "      <td>0</td>\n",
       "      <td>1</td>\n",
       "      <td>0</td>\n",
       "      <td>0</td>\n",
       "      <td>0</td>\n",
       "    </tr>\n",
       "    <tr>\n",
       "      <th>1</th>\n",
       "      <td>22</td>\n",
       "      <td>50</td>\n",
       "      <td>0</td>\n",
       "      <td>12.9</td>\n",
       "      <td>2.1</td>\n",
       "      <td>5.2</td>\n",
       "      <td>0.401</td>\n",
       "      <td>0.9</td>\n",
       "      <td>2.5</td>\n",
       "      <td>0.339</td>\n",
       "      <td>...</td>\n",
       "      <td>43</td>\n",
       "      <td>0</td>\n",
       "      <td>8</td>\n",
       "      <td>73.2</td>\n",
       "      <td>0</td>\n",
       "      <td>0</td>\n",
       "      <td>0</td>\n",
       "      <td>1</td>\n",
       "      <td>0</td>\n",
       "      <td>0</td>\n",
       "    </tr>\n",
       "    <tr>\n",
       "      <th>2</th>\n",
       "      <td>25</td>\n",
       "      <td>61</td>\n",
       "      <td>1</td>\n",
       "      <td>11.4</td>\n",
       "      <td>1.5</td>\n",
       "      <td>3.5</td>\n",
       "      <td>0.423</td>\n",
       "      <td>0.5</td>\n",
       "      <td>1.6</td>\n",
       "      <td>0.320</td>\n",
       "      <td>...</td>\n",
       "      <td>84</td>\n",
       "      <td>0</td>\n",
       "      <td>8</td>\n",
       "      <td>121.0</td>\n",
       "      <td>0</td>\n",
       "      <td>0</td>\n",
       "      <td>0</td>\n",
       "      <td>0</td>\n",
       "      <td>1</td>\n",
       "      <td>0</td>\n",
       "    </tr>\n",
       "    <tr>\n",
       "      <th>3</th>\n",
       "      <td>28</td>\n",
       "      <td>81</td>\n",
       "      <td>81</td>\n",
       "      <td>28.3</td>\n",
       "      <td>3.2</td>\n",
       "      <td>7.3</td>\n",
       "      <td>0.433</td>\n",
       "      <td>1.2</td>\n",
       "      <td>3.5</td>\n",
       "      <td>0.343</td>\n",
       "      <td>...</td>\n",
       "      <td>28</td>\n",
       "      <td>0</td>\n",
       "      <td>8</td>\n",
       "      <td>76.2</td>\n",
       "      <td>0</td>\n",
       "      <td>0</td>\n",
       "      <td>1</td>\n",
       "      <td>0</td>\n",
       "      <td>0</td>\n",
       "      <td>0</td>\n",
       "    </tr>\n",
       "    <tr>\n",
       "      <th>4</th>\n",
       "      <td>32</td>\n",
       "      <td>68</td>\n",
       "      <td>68</td>\n",
       "      <td>29.0</td>\n",
       "      <td>5.7</td>\n",
       "      <td>10.6</td>\n",
       "      <td>0.535</td>\n",
       "      <td>1.1</td>\n",
       "      <td>3.0</td>\n",
       "      <td>0.360</td>\n",
       "      <td>...</td>\n",
       "      <td>22</td>\n",
       "      <td>0</td>\n",
       "      <td>7</td>\n",
       "      <td>45.0</td>\n",
       "      <td>0</td>\n",
       "      <td>1</td>\n",
       "      <td>0</td>\n",
       "      <td>0</td>\n",
       "      <td>0</td>\n",
       "      <td>0</td>\n",
       "    </tr>\n",
       "  </tbody>\n",
       "</table>\n",
       "<p>5 rows × 42 columns</p>\n",
       "</div>"
      ],
      "text/plain": [
       "   Age   G  GS    MP   FG   FGA    FG_  X3P  X3PA   X3P_  ...  PRank  Mvot  \\\n",
       "0   23  78  78  33.8  6.0  13.4  0.449  1.6   4.4  0.349  ...     17     0   \n",
       "1   22  50   0  12.9  2.1   5.2  0.401  0.9   2.5  0.339  ...     43     0   \n",
       "2   25  61   1  11.4  1.5   3.5  0.423  0.5   1.6  0.320  ...     84     0   \n",
       "3   28  81  81  28.3  3.2   7.3  0.433  1.2   3.5  0.343  ...     28     0   \n",
       "4   32  68  68  29.0  5.7  10.6  0.535  1.1   3.0  0.360  ...     22     0   \n",
       "\n",
       "   MRank  Score  Play  Pos1_C  Pos1_PF  Pos1_PG  Pos1_SF  Pos1_SG  \n",
       "0      7   50.8     0       0        1        0        0        0  \n",
       "1      8   73.2     0       0        0        1        0        0  \n",
       "2      8  121.0     0       0        0        0        1        0  \n",
       "3      8   76.2     0       0        1        0        0        0  \n",
       "4      7   45.0     0       1        0        0        0        0  \n",
       "\n",
       "[5 rows x 42 columns]"
      ]
     },
     "execution_count": 72,
     "metadata": {},
     "output_type": "execute_result"
    }
   ],
   "source": [
    "#Verimizin modele girecek son halini görelim.\n",
    "\n",
    "df_model.head()"
   ]
  },
  {
   "cell_type": "code",
   "execution_count": 73,
   "metadata": {},
   "outputs": [],
   "source": [
    "#Standard Scaler uyguluyoruz bütün sütunlara\n",
    "scaler = preprocessing.StandardScaler()\n",
    "\n",
    "scaler.fit(df_model)\n",
    "df_model = scaler.transform(df_model)"
   ]
  },
  {
   "cell_type": "markdown",
   "metadata": {},
   "source": [
    "## K-Means Uygulama"
   ]
  },
  {
   "cell_type": "code",
   "execution_count": 74,
   "metadata": {},
   "outputs": [
    {
     "name": "stderr",
     "output_type": "stream",
     "text": [
      "D:\\Anaconda\\lib\\site-packages\\sklearn\\utils\\deprecation.py:144: FutureWarning: The sklearn.metrics.classification module is  deprecated in version 0.22 and will be removed in version 0.24. The corresponding classes / functions should instead be imported from sklearn.metrics. Anything that cannot be imported from sklearn.metrics is now part of the private API.\n",
      "  warnings.warn(message, FutureWarning)\n"
     ]
    },
    {
     "data": {
      "image/png": "[encoded data removed]",
      "text/plain": [
       "<Figure size 576x396 with 2 Axes>"
      ]
     },
     "metadata": {},
     "output_type": "display_data"
    }
   ],
   "source": [
    "#En iyi sonucu verecek k değerini tespit edelim.\n",
    "\n",
    "from yellowbrick.cluster import KElbowVisualizer\n",
    "\n",
    "kmeans = KMeans(random_state = 44)\n",
    "visu = KElbowVisualizer(kmeans, k = (2,20))\n",
    "visu.fit(df_model);"
   ]
  },
  {
   "cell_type": "markdown",
   "metadata": {},
   "source": [
    "k=6 en uygun küme sayısı değeri."
   ]
  },
  {
   "cell_type": "code",
   "execution_count": 75,
   "metadata": {},
   "outputs": [
    {
     "data": {
      "text/plain": [
       "array([2, 4, 1, 2, 0, 4, 4, 4, 0, 1, 1, 5, 4, 4, 1, 1, 0, 4, 5, 2, 5, 5,\n",
       "       1, 3, 1, 4, 1, 4, 4, 0, 5, 3, 1, 3, 1, 2, 2, 2, 4, 3, 5, 2, 4, 4,\n",
       "       2, 4, 4, 2, 1, 5, 5, 4, 2, 2, 2, 1, 1, 1, 4, 1, 5, 1, 2, 1, 2, 0,\n",
       "       0, 2, 4, 4, 1, 2, 2, 1, 1, 3, 4, 4, 5, 1, 2, 4, 1, 4, 1, 2, 1, 2,\n",
       "       5, 4, 1, 5, 2, 4, 4, 0, 0, 4, 2, 0, 1, 1, 2, 2, 5, 0, 1, 2, 4, 2,\n",
       "       4, 1, 4, 0, 4, 4, 4, 0, 2, 4, 5, 1, 1, 1, 2, 1, 1, 4, 0, 0, 2, 5,\n",
       "       4, 0, 5, 1, 2, 4, 2, 0, 2, 2, 5, 1, 2, 4, 4, 1, 4, 4, 4, 4, 1, 2,\n",
       "       4, 5, 1, 4, 3, 1, 2, 2, 1, 4, 1, 1, 4, 2, 1, 0, 1, 4, 1, 5, 4, 5,\n",
       "       5, 1, 1, 4, 4, 1, 0, 4, 2, 5, 2, 5, 2, 1, 1, 1, 4, 1, 4, 2, 1, 3,\n",
       "       1, 5, 1, 1, 5, 1, 0, 1, 5, 0, 1, 0, 5, 4, 2, 5, 2, 2, 2, 2, 2, 4,\n",
       "       4, 5, 4, 4, 2, 1, 5, 2, 2, 3, 0, 1, 2, 1, 1, 1, 1, 1, 0, 1, 4, 1,\n",
       "       2, 5, 4, 4, 4, 2, 4, 2, 2, 1, 0, 1, 4, 1, 5, 2, 0, 0, 3, 1, 1, 3,\n",
       "       0, 4, 2, 4, 3, 4, 2, 2, 1, 1, 2, 5, 2, 1, 5, 2, 1, 4, 2, 2, 1, 3,\n",
       "       0, 4, 1, 4, 4, 2, 3, 5, 2, 5, 2, 1, 3, 4, 1, 1, 5, 2, 4, 4, 0, 1,\n",
       "       4, 1, 2, 2, 1, 4, 1, 1, 4, 0, 2, 0, 4, 1, 1, 5, 1, 1, 4, 1, 4, 2,\n",
       "       1, 1, 1, 1, 4, 0, 4, 0, 1, 0, 5, 2, 1, 2, 4, 3, 2, 0, 1, 4, 1, 1,\n",
       "       1, 2, 2, 2, 4, 4, 4, 1, 4, 1, 3, 0, 5, 1, 4, 2, 4, 5, 1, 4, 4, 2,\n",
       "       1, 2, 2, 1, 0, 1, 4, 4, 5, 1, 1, 2, 0, 3, 5, 4, 4, 1, 1, 1, 0, 4,\n",
       "       4, 2, 4, 4, 4, 4, 5, 1, 1, 2, 1, 3, 4, 0, 5, 1, 4, 2, 0, 4, 4, 4,\n",
       "       1, 2, 5, 0, 1, 1, 4, 2, 4, 2, 4, 1, 4, 4, 1, 2, 4, 5, 2, 4, 1, 0,\n",
       "       5, 4, 1, 5, 4, 4, 1, 4, 5, 1, 4, 5, 2, 4, 5, 5, 4, 4, 0, 1, 1, 2,\n",
       "       4, 0, 1, 1, 5, 4, 5, 1, 2, 5, 1, 4])"
      ]
     },
     "execution_count": 75,
     "metadata": {},
     "output_type": "execute_result"
    }
   ],
   "source": [
    "kmeans = KMeans(n_clusters = 6, random_state = 4)\n",
    "\n",
    "k_fit = kmeans.fit(df_model)\n",
    "\n",
    "k_fit.labels_"
   ]
  },
  {
   "cell_type": "code",
   "execution_count": 76,
   "metadata": {},
   "outputs": [],
   "source": [
    "#Sütun isimlerindeki \".\" ları \"_\" ye çeviriyoruz sıkıntı oluyor diğer türlü çünkü.\n",
    "df = df.rename(columns = {\"Player.x\" : \"Player_x\", \"FG.\" : \"FG_\", \"X3P.\": \"X3P_\", \n",
    "                          \"X2P.\": \"X2P_\", \"eFG.\": \"eFG_\", \"FT.\": \"FT_\",})\n",
    "\n",
    "\n",
    "df[\"kume\"] = k_fit.labels_"
   ]
  },
  {
   "cell_type": "code",
   "execution_count": 77,
   "metadata": {},
   "outputs": [
    {
     "data": {
      "text/html": [
       "<div>\n",
       "<style scoped>\n",
       "    .dataframe tbody tr th:only-of-type {\n",
       "        vertical-align: middle;\n",
       "    }\n",
       "\n",
       "    .dataframe tbody tr th {\n",
       "        vertical-align: top;\n",
       "    }\n",
       "\n",
       "    .dataframe thead th {\n",
       "        text-align: right;\n",
       "    }\n",
       "</style>\n",
       "<table border=\"1\" class=\"dataframe\">\n",
       "  <thead>\n",
       "    <tr style=\"text-align: right;\">\n",
       "      <th></th>\n",
       "      <th>Rk</th>\n",
       "      <th>Player_x</th>\n",
       "      <th>Player_ID</th>\n",
       "      <th>Pos1</th>\n",
       "      <th>Pos2</th>\n",
       "      <th>Age</th>\n",
       "      <th>Tm</th>\n",
       "      <th>G</th>\n",
       "      <th>GS</th>\n",
       "      <th>MP</th>\n",
       "      <th>...</th>\n",
       "      <th>Role</th>\n",
       "      <th>Fvot</th>\n",
       "      <th>FRank</th>\n",
       "      <th>Pvot</th>\n",
       "      <th>PRank</th>\n",
       "      <th>Mvot</th>\n",
       "      <th>MRank</th>\n",
       "      <th>Score</th>\n",
       "      <th>Play</th>\n",
       "      <th>kume</th>\n",
       "    </tr>\n",
       "  </thead>\n",
       "  <tbody>\n",
       "    <tr>\n",
       "      <th>0</th>\n",
       "      <td>189</td>\n",
       "      <td>Aaron Gordon</td>\n",
       "      <td>gordoaa01</td>\n",
       "      <td>PF</td>\n",
       "      <td>NaN</td>\n",
       "      <td>23</td>\n",
       "      <td>ORL</td>\n",
       "      <td>78</td>\n",
       "      <td>78</td>\n",
       "      <td>33.8</td>\n",
       "      <td>...</td>\n",
       "      <td>Front</td>\n",
       "      <td>94489</td>\n",
       "      <td>24</td>\n",
       "      <td>10</td>\n",
       "      <td>17</td>\n",
       "      <td>0</td>\n",
       "      <td>7</td>\n",
       "      <td>50.8</td>\n",
       "      <td>No</td>\n",
       "      <td>2</td>\n",
       "    </tr>\n",
       "    <tr>\n",
       "      <th>1</th>\n",
       "      <td>229</td>\n",
       "      <td>Aaron Holiday</td>\n",
       "      <td>holidaa01</td>\n",
       "      <td>PG</td>\n",
       "      <td>NaN</td>\n",
       "      <td>22</td>\n",
       "      <td>IND</td>\n",
       "      <td>50</td>\n",
       "      <td>0</td>\n",
       "      <td>12.9</td>\n",
       "      <td>...</td>\n",
       "      <td>Back</td>\n",
       "      <td>9819</td>\n",
       "      <td>63</td>\n",
       "      <td>1</td>\n",
       "      <td>43</td>\n",
       "      <td>0</td>\n",
       "      <td>8</td>\n",
       "      <td>73.2</td>\n",
       "      <td>No</td>\n",
       "      <td>4</td>\n",
       "    </tr>\n",
       "    <tr>\n",
       "      <th>2</th>\n",
       "      <td>371</td>\n",
       "      <td>Abdel Nader</td>\n",
       "      <td>naderab01</td>\n",
       "      <td>SF</td>\n",
       "      <td>NaN</td>\n",
       "      <td>25</td>\n",
       "      <td>OKC</td>\n",
       "      <td>61</td>\n",
       "      <td>1</td>\n",
       "      <td>11.4</td>\n",
       "      <td>...</td>\n",
       "      <td>Front</td>\n",
       "      <td>29254</td>\n",
       "      <td>57</td>\n",
       "      <td>0</td>\n",
       "      <td>84</td>\n",
       "      <td>0</td>\n",
       "      <td>8</td>\n",
       "      <td>121.0</td>\n",
       "      <td>No</td>\n",
       "      <td>1</td>\n",
       "    </tr>\n",
       "    <tr>\n",
       "      <th>3</th>\n",
       "      <td>13</td>\n",
       "      <td>Al-Farouq Aminu</td>\n",
       "      <td>aminual01</td>\n",
       "      <td>PF</td>\n",
       "      <td>NaN</td>\n",
       "      <td>28</td>\n",
       "      <td>POR</td>\n",
       "      <td>81</td>\n",
       "      <td>81</td>\n",
       "      <td>28.3</td>\n",
       "      <td>...</td>\n",
       "      <td>Front</td>\n",
       "      <td>26552</td>\n",
       "      <td>65</td>\n",
       "      <td>5</td>\n",
       "      <td>28</td>\n",
       "      <td>0</td>\n",
       "      <td>8</td>\n",
       "      <td>76.2</td>\n",
       "      <td>No</td>\n",
       "      <td>2</td>\n",
       "    </tr>\n",
       "    <tr>\n",
       "      <th>4</th>\n",
       "      <td>236</td>\n",
       "      <td>Al Horford</td>\n",
       "      <td>horfoal01</td>\n",
       "      <td>C</td>\n",
       "      <td>NaN</td>\n",
       "      <td>32</td>\n",
       "      <td>BOS</td>\n",
       "      <td>68</td>\n",
       "      <td>68</td>\n",
       "      <td>29.0</td>\n",
       "      <td>...</td>\n",
       "      <td>Front</td>\n",
       "      <td>360988</td>\n",
       "      <td>10</td>\n",
       "      <td>7</td>\n",
       "      <td>22</td>\n",
       "      <td>0</td>\n",
       "      <td>7</td>\n",
       "      <td>45.0</td>\n",
       "      <td>No</td>\n",
       "      <td>0</td>\n",
       "    </tr>\n",
       "  </tbody>\n",
       "</table>\n",
       "<p>5 rows × 46 columns</p>\n",
       "</div>"
      ],
      "text/plain": [
       "    Rk         Player_x  Player_ID Pos1 Pos2  Age   Tm   G  GS    MP  ...  \\\n",
       "0  189     Aaron Gordon  gordoaa01   PF  NaN   23  ORL  78  78  33.8  ...   \n",
       "1  229    Aaron Holiday  holidaa01   PG  NaN   22  IND  50   0  12.9  ...   \n",
       "2  371      Abdel Nader  naderab01   SF  NaN   25  OKC  61   1  11.4  ...   \n",
       "3   13  Al-Farouq Aminu  aminual01   PF  NaN   28  POR  81  81  28.3  ...   \n",
       "4  236       Al Horford  horfoal01    C  NaN   32  BOS  68  68  29.0  ...   \n",
       "\n",
       "    Role    Fvot  FRank  Pvot  PRank  Mvot  MRank  Score  Play  kume  \n",
       "0  Front   94489     24    10     17     0      7   50.8    No     2  \n",
       "1   Back    9819     63     1     43     0      8   73.2    No     4  \n",
       "2  Front   29254     57     0     84     0      8  121.0    No     1  \n",
       "3  Front   26552     65     5     28     0      8   76.2    No     2  \n",
       "4  Front  360988     10     7     22     0      7   45.0    No     0  \n",
       "\n",
       "[5 rows x 46 columns]"
      ]
     },
     "execution_count": 77,
     "metadata": {},
     "output_type": "execute_result"
    }
   ],
   "source": [
    "df.head()"
   ]
  },
  {
   "cell_type": "markdown",
   "metadata": {},
   "source": [
    "## Sonuç"
   ]
  },
  {
   "cell_type": "code",
   "execution_count": 78,
   "metadata": {},
   "outputs": [],
   "source": [
    "pd.set_option('display.max_columns', None)"
   ]
  },
  {
   "cell_type": "code",
   "execution_count": 79,
   "metadata": {
    "scrolled": false
   },
   "outputs": [
    {
     "data": {
      "text/html": [
       "<div>\n",
       "<style scoped>\n",
       "    .dataframe tbody tr th:only-of-type {\n",
       "        vertical-align: middle;\n",
       "    }\n",
       "\n",
       "    .dataframe tbody tr th {\n",
       "        vertical-align: top;\n",
       "    }\n",
       "\n",
       "    .dataframe thead th {\n",
       "        text-align: right;\n",
       "    }\n",
       "</style>\n",
       "<table border=\"1\" class=\"dataframe\">\n",
       "  <thead>\n",
       "    <tr style=\"text-align: right;\">\n",
       "      <th></th>\n",
       "      <th>Rk</th>\n",
       "      <th>Age</th>\n",
       "      <th>G</th>\n",
       "      <th>GS</th>\n",
       "      <th>MP</th>\n",
       "      <th>FG</th>\n",
       "      <th>FGA</th>\n",
       "      <th>FG_</th>\n",
       "      <th>X3P</th>\n",
       "      <th>X3PA</th>\n",
       "      <th>X3P_</th>\n",
       "      <th>X2P</th>\n",
       "      <th>X2PA</th>\n",
       "      <th>X2P_</th>\n",
       "      <th>eFG_</th>\n",
       "      <th>FT</th>\n",
       "      <th>FTA</th>\n",
       "      <th>FT_</th>\n",
       "      <th>ORB</th>\n",
       "      <th>DRB</th>\n",
       "      <th>TRB</th>\n",
       "      <th>AST</th>\n",
       "      <th>STL</th>\n",
       "      <th>BLK</th>\n",
       "      <th>TOV</th>\n",
       "      <th>PF</th>\n",
       "      <th>PTS</th>\n",
       "      <th>Salary</th>\n",
       "      <th>mean_views</th>\n",
       "      <th>Fvot</th>\n",
       "      <th>FRank</th>\n",
       "      <th>Pvot</th>\n",
       "      <th>PRank</th>\n",
       "      <th>Mvot</th>\n",
       "      <th>MRank</th>\n",
       "      <th>Score</th>\n",
       "    </tr>\n",
       "    <tr>\n",
       "      <th>kume</th>\n",
       "      <th></th>\n",
       "      <th></th>\n",
       "      <th></th>\n",
       "      <th></th>\n",
       "      <th></th>\n",
       "      <th></th>\n",
       "      <th></th>\n",
       "      <th></th>\n",
       "      <th></th>\n",
       "      <th></th>\n",
       "      <th></th>\n",
       "      <th></th>\n",
       "      <th></th>\n",
       "      <th></th>\n",
       "      <th></th>\n",
       "      <th></th>\n",
       "      <th></th>\n",
       "      <th></th>\n",
       "      <th></th>\n",
       "      <th></th>\n",
       "      <th></th>\n",
       "      <th></th>\n",
       "      <th></th>\n",
       "      <th></th>\n",
       "      <th></th>\n",
       "      <th></th>\n",
       "      <th></th>\n",
       "      <th></th>\n",
       "      <th></th>\n",
       "      <th></th>\n",
       "      <th></th>\n",
       "      <th></th>\n",
       "      <th></th>\n",
       "      <th></th>\n",
       "      <th></th>\n",
       "      <th></th>\n",
       "    </tr>\n",
       "  </thead>\n",
       "  <tbody>\n",
       "    <tr>\n",
       "      <th>0</th>\n",
       "      <td>254.111111</td>\n",
       "      <td>25.955556</td>\n",
       "      <td>67.733333</td>\n",
       "      <td>48.955556</td>\n",
       "      <td>26.135556</td>\n",
       "      <td>5.304444</td>\n",
       "      <td>9.624444</td>\n",
       "      <td>0.559533</td>\n",
       "      <td>0.375556</td>\n",
       "      <td>1.133333</td>\n",
       "      <td>0.265974</td>\n",
       "      <td>4.940000</td>\n",
       "      <td>8.488889</td>\n",
       "      <td>0.586244</td>\n",
       "      <td>0.577222</td>\n",
       "      <td>2.388889</td>\n",
       "      <td>3.402222</td>\n",
       "      <td>0.706489</td>\n",
       "      <td>2.615556</td>\n",
       "      <td>5.853333</td>\n",
       "      <td>8.471111</td>\n",
       "      <td>1.873333</td>\n",
       "      <td>0.746667</td>\n",
       "      <td>1.133333</td>\n",
       "      <td>1.575556</td>\n",
       "      <td>2.777778</td>\n",
       "      <td>13.388889</td>\n",
       "      <td>1.228864e+07</td>\n",
       "      <td>1111.042917</td>\n",
       "      <td>1.617280e+05</td>\n",
       "      <td>39.933333</td>\n",
       "      <td>7.933333</td>\n",
       "      <td>35.577778</td>\n",
       "      <td>0.044444</td>\n",
       "      <td>7.400000</td>\n",
       "      <td>66.668889</td>\n",
       "    </tr>\n",
       "    <tr>\n",
       "      <th>1</th>\n",
       "      <td>274.067164</td>\n",
       "      <td>25.962687</td>\n",
       "      <td>48.611940</td>\n",
       "      <td>9.947761</td>\n",
       "      <td>15.108955</td>\n",
       "      <td>2.084328</td>\n",
       "      <td>4.435821</td>\n",
       "      <td>0.480306</td>\n",
       "      <td>0.532090</td>\n",
       "      <td>1.557463</td>\n",
       "      <td>0.297933</td>\n",
       "      <td>1.548507</td>\n",
       "      <td>2.873881</td>\n",
       "      <td>0.542418</td>\n",
       "      <td>0.537336</td>\n",
       "      <td>0.829104</td>\n",
       "      <td>1.176866</td>\n",
       "      <td>0.707104</td>\n",
       "      <td>0.909701</td>\n",
       "      <td>2.445522</td>\n",
       "      <td>3.356716</td>\n",
       "      <td>0.897015</td>\n",
       "      <td>0.436567</td>\n",
       "      <td>0.429104</td>\n",
       "      <td>0.672388</td>\n",
       "      <td>1.650000</td>\n",
       "      <td>5.527612</td>\n",
       "      <td>4.530580e+06</td>\n",
       "      <td>455.867956</td>\n",
       "      <td>1.482157e+04</td>\n",
       "      <td>85.798507</td>\n",
       "      <td>0.791045</td>\n",
       "      <td>68.097015</td>\n",
       "      <td>0.000000</td>\n",
       "      <td>7.537313</td>\n",
       "      <td>114.148507</td>\n",
       "    </tr>\n",
       "    <tr>\n",
       "      <th>2</th>\n",
       "      <td>276.757895</td>\n",
       "      <td>26.652632</td>\n",
       "      <td>67.378947</td>\n",
       "      <td>55.189474</td>\n",
       "      <td>30.208421</td>\n",
       "      <td>5.537895</td>\n",
       "      <td>12.468421</td>\n",
       "      <td>0.443558</td>\n",
       "      <td>1.712632</td>\n",
       "      <td>4.738947</td>\n",
       "      <td>0.357958</td>\n",
       "      <td>3.826316</td>\n",
       "      <td>7.729474</td>\n",
       "      <td>0.496695</td>\n",
       "      <td>0.514126</td>\n",
       "      <td>2.445263</td>\n",
       "      <td>3.053684</td>\n",
       "      <td>0.791000</td>\n",
       "      <td>0.848421</td>\n",
       "      <td>3.843158</td>\n",
       "      <td>4.688421</td>\n",
       "      <td>3.706316</td>\n",
       "      <td>0.987368</td>\n",
       "      <td>0.428421</td>\n",
       "      <td>1.882105</td>\n",
       "      <td>2.249474</td>\n",
       "      <td>15.220000</td>\n",
       "      <td>1.197605e+07</td>\n",
       "      <td>1364.993227</td>\n",
       "      <td>2.497832e+05</td>\n",
       "      <td>29.463158</td>\n",
       "      <td>9.010526</td>\n",
       "      <td>24.715789</td>\n",
       "      <td>0.242105</td>\n",
       "      <td>7.073684</td>\n",
       "      <td>52.300000</td>\n",
       "    </tr>\n",
       "    <tr>\n",
       "      <th>3</th>\n",
       "      <td>232.111111</td>\n",
       "      <td>26.722222</td>\n",
       "      <td>72.166667</td>\n",
       "      <td>72.166667</td>\n",
       "      <td>34.433333</td>\n",
       "      <td>8.916667</td>\n",
       "      <td>18.627778</td>\n",
       "      <td>0.482722</td>\n",
       "      <td>2.272222</td>\n",
       "      <td>6.333333</td>\n",
       "      <td>0.328000</td>\n",
       "      <td>6.644444</td>\n",
       "      <td>12.283333</td>\n",
       "      <td>0.538278</td>\n",
       "      <td>0.541222</td>\n",
       "      <td>5.383333</td>\n",
       "      <td>6.766667</td>\n",
       "      <td>0.796944</td>\n",
       "      <td>1.455556</td>\n",
       "      <td>6.627778</td>\n",
       "      <td>8.077778</td>\n",
       "      <td>6.116667</td>\n",
       "      <td>1.372222</td>\n",
       "      <td>0.783333</td>\n",
       "      <td>3.150000</td>\n",
       "      <td>2.483333</td>\n",
       "      <td>25.494444</td>\n",
       "      <td>2.521865e+07</td>\n",
       "      <td>6752.505175</td>\n",
       "      <td>2.656524e+06</td>\n",
       "      <td>3.666667</td>\n",
       "      <td>119.888889</td>\n",
       "      <td>3.111111</td>\n",
       "      <td>54.166667</td>\n",
       "      <td>2.888889</td>\n",
       "      <td>5.150000</td>\n",
       "    </tr>\n",
       "    <tr>\n",
       "      <th>4</th>\n",
       "      <td>249.174603</td>\n",
       "      <td>26.365079</td>\n",
       "      <td>56.976190</td>\n",
       "      <td>16.119048</td>\n",
       "      <td>19.850794</td>\n",
       "      <td>2.745238</td>\n",
       "      <td>6.546825</td>\n",
       "      <td>0.419429</td>\n",
       "      <td>1.062698</td>\n",
       "      <td>3.014286</td>\n",
       "      <td>0.340492</td>\n",
       "      <td>1.684921</td>\n",
       "      <td>3.537302</td>\n",
       "      <td>0.479643</td>\n",
       "      <td>0.499786</td>\n",
       "      <td>0.931746</td>\n",
       "      <td>1.212698</td>\n",
       "      <td>0.768635</td>\n",
       "      <td>0.426984</td>\n",
       "      <td>2.000000</td>\n",
       "      <td>2.422222</td>\n",
       "      <td>2.069048</td>\n",
       "      <td>0.630159</td>\n",
       "      <td>0.227778</td>\n",
       "      <td>0.942063</td>\n",
       "      <td>1.656349</td>\n",
       "      <td>7.482540</td>\n",
       "      <td>4.703029e+06</td>\n",
       "      <td>756.990302</td>\n",
       "      <td>3.523840e+04</td>\n",
       "      <td>62.380952</td>\n",
       "      <td>0.992063</td>\n",
       "      <td>49.761905</td>\n",
       "      <td>0.000000</td>\n",
       "      <td>7.007937</td>\n",
       "      <td>90.561905</td>\n",
       "    </tr>\n",
       "    <tr>\n",
       "      <th>5</th>\n",
       "      <td>270.946429</td>\n",
       "      <td>23.214286</td>\n",
       "      <td>15.875000</td>\n",
       "      <td>0.321429</td>\n",
       "      <td>7.221429</td>\n",
       "      <td>0.766071</td>\n",
       "      <td>2.275000</td>\n",
       "      <td>0.321509</td>\n",
       "      <td>0.217857</td>\n",
       "      <td>0.878571</td>\n",
       "      <td>0.257902</td>\n",
       "      <td>0.546429</td>\n",
       "      <td>1.407143</td>\n",
       "      <td>0.382423</td>\n",
       "      <td>0.369109</td>\n",
       "      <td>0.301786</td>\n",
       "      <td>0.450000</td>\n",
       "      <td>0.632256</td>\n",
       "      <td>0.271429</td>\n",
       "      <td>0.928571</td>\n",
       "      <td>1.194643</td>\n",
       "      <td>0.616071</td>\n",
       "      <td>0.248214</td>\n",
       "      <td>0.064286</td>\n",
       "      <td>0.383929</td>\n",
       "      <td>0.694643</td>\n",
       "      <td>2.042857</td>\n",
       "      <td>1.369630e+06</td>\n",
       "      <td>292.344253</td>\n",
       "      <td>6.296089e+03</td>\n",
       "      <td>94.946429</td>\n",
       "      <td>0.446429</td>\n",
       "      <td>59.589286</td>\n",
       "      <td>0.000000</td>\n",
       "      <td>7.232143</td>\n",
       "      <td>116.555357</td>\n",
       "    </tr>\n",
       "  </tbody>\n",
       "</table>\n",
       "</div>"
      ],
      "text/plain": [
       "              Rk        Age          G         GS         MP        FG  \\\n",
       "kume                                                                     \n",
       "0     254.111111  25.955556  67.733333  48.955556  26.135556  5.304444   \n",
       "1     274.067164  25.962687  48.611940   9.947761  15.108955  2.084328   \n",
       "2     276.757895  26.652632  67.378947  55.189474  30.208421  5.537895   \n",
       "3     232.111111  26.722222  72.166667  72.166667  34.433333  8.916667   \n",
       "4     249.174603  26.365079  56.976190  16.119048  19.850794  2.745238   \n",
       "5     270.946429  23.214286  15.875000   0.321429   7.221429  0.766071   \n",
       "\n",
       "            FGA       FG_       X3P      X3PA      X3P_       X2P       X2PA  \\\n",
       "kume                                                                           \n",
       "0      9.624444  0.559533  0.375556  1.133333  0.265974  4.940000   8.488889   \n",
       "1      4.435821  0.480306  0.532090  1.557463  0.297933  1.548507   2.873881   \n",
       "2     12.468421  0.443558  1.712632  4.738947  0.357958  3.826316   7.729474   \n",
       "3     18.627778  0.482722  2.272222  6.333333  0.328000  6.644444  12.283333   \n",
       "4      6.546825  0.419429  1.062698  3.014286  0.340492  1.684921   3.537302   \n",
       "5      2.275000  0.321509  0.217857  0.878571  0.257902  0.546429   1.407143   \n",
       "\n",
       "          X2P_      eFG_        FT       FTA       FT_       ORB       DRB  \\\n",
       "kume                                                                         \n",
       "0     0.586244  0.577222  2.388889  3.402222  0.706489  2.615556  5.853333   \n",
       "1     0.542418  0.537336  0.829104  1.176866  0.707104  0.909701  2.445522   \n",
       "2     0.496695  0.514126  2.445263  3.053684  0.791000  0.848421  3.843158   \n",
       "3     0.538278  0.541222  5.383333  6.766667  0.796944  1.455556  6.627778   \n",
       "4     0.479643  0.499786  0.931746  1.212698  0.768635  0.426984  2.000000   \n",
       "5     0.382423  0.369109  0.301786  0.450000  0.632256  0.271429  0.928571   \n",
       "\n",
       "           TRB       AST       STL       BLK       TOV        PF        PTS  \\\n",
       "kume                                                                          \n",
       "0     8.471111  1.873333  0.746667  1.133333  1.575556  2.777778  13.388889   \n",
       "1     3.356716  0.897015  0.436567  0.429104  0.672388  1.650000   5.527612   \n",
       "2     4.688421  3.706316  0.987368  0.428421  1.882105  2.249474  15.220000   \n",
       "3     8.077778  6.116667  1.372222  0.783333  3.150000  2.483333  25.494444   \n",
       "4     2.422222  2.069048  0.630159  0.227778  0.942063  1.656349   7.482540   \n",
       "5     1.194643  0.616071  0.248214  0.064286  0.383929  0.694643   2.042857   \n",
       "\n",
       "            Salary   mean_views          Fvot      FRank        Pvot  \\\n",
       "kume                                                                   \n",
       "0     1.228864e+07  1111.042917  1.617280e+05  39.933333    7.933333   \n",
       "1     4.530580e+06   455.867956  1.482157e+04  85.798507    0.791045   \n",
       "2     1.197605e+07  1364.993227  2.497832e+05  29.463158    9.010526   \n",
       "3     2.521865e+07  6752.505175  2.656524e+06   3.666667  119.888889   \n",
       "4     4.703029e+06   756.990302  3.523840e+04  62.380952    0.992063   \n",
       "5     1.369630e+06   292.344253  6.296089e+03  94.946429    0.446429   \n",
       "\n",
       "          PRank       Mvot     MRank       Score  \n",
       "kume                                              \n",
       "0     35.577778   0.044444  7.400000   66.668889  \n",
       "1     68.097015   0.000000  7.537313  114.148507  \n",
       "2     24.715789   0.242105  7.073684   52.300000  \n",
       "3      3.111111  54.166667  2.888889    5.150000  \n",
       "4     49.761905   0.000000  7.007937   90.561905  \n",
       "5     59.589286   0.000000  7.232143  116.555357  "
      ]
     },
     "execution_count": 79,
     "metadata": {},
     "output_type": "execute_result"
    }
   ],
   "source": [
    "df.groupby('kume').mean()"
   ]
  },
  {
   "cell_type": "markdown",
   "metadata": {},
   "source": [
    "Kümeler arasında bir sıralama yapacak olursak en iyi kümenin Küme-3 olduğunu söyleyebiliriz. Daha sonrasında sıralama şöyle devam eder; Küme-2, Küme-0, Küme-4, Küme-1, Küme-5."
   ]
  },
  {
   "cell_type": "code",
   "execution_count": 80,
   "metadata": {
    "scrolled": true
   },
   "outputs": [
    {
     "data": {
      "text/html": [
       "<div>\n",
       "<style scoped>\n",
       "    .dataframe tbody tr th:only-of-type {\n",
       "        vertical-align: middle;\n",
       "    }\n",
       "\n",
       "    .dataframe tbody tr th {\n",
       "        vertical-align: top;\n",
       "    }\n",
       "\n",
       "    .dataframe thead th {\n",
       "        text-align: right;\n",
       "    }\n",
       "</style>\n",
       "<table border=\"1\" class=\"dataframe\">\n",
       "  <thead>\n",
       "    <tr style=\"text-align: right;\">\n",
       "      <th></th>\n",
       "      <th>Rk</th>\n",
       "      <th>Player_x</th>\n",
       "      <th>Player_ID</th>\n",
       "      <th>Pos1</th>\n",
       "      <th>Pos2</th>\n",
       "      <th>Age</th>\n",
       "      <th>Tm</th>\n",
       "      <th>G</th>\n",
       "      <th>GS</th>\n",
       "      <th>MP</th>\n",
       "      <th>FG</th>\n",
       "      <th>FGA</th>\n",
       "      <th>FG_</th>\n",
       "      <th>X3P</th>\n",
       "      <th>X3PA</th>\n",
       "      <th>X3P_</th>\n",
       "      <th>X2P</th>\n",
       "      <th>X2PA</th>\n",
       "      <th>X2P_</th>\n",
       "      <th>eFG_</th>\n",
       "      <th>FT</th>\n",
       "      <th>FTA</th>\n",
       "      <th>FT_</th>\n",
       "      <th>ORB</th>\n",
       "      <th>DRB</th>\n",
       "      <th>TRB</th>\n",
       "      <th>AST</th>\n",
       "      <th>STL</th>\n",
       "      <th>BLK</th>\n",
       "      <th>TOV</th>\n",
       "      <th>PF</th>\n",
       "      <th>PTS</th>\n",
       "      <th>Salary</th>\n",
       "      <th>mean_views</th>\n",
       "      <th>Season</th>\n",
       "      <th>Conference</th>\n",
       "      <th>Role</th>\n",
       "      <th>Fvot</th>\n",
       "      <th>FRank</th>\n",
       "      <th>Pvot</th>\n",
       "      <th>PRank</th>\n",
       "      <th>Mvot</th>\n",
       "      <th>MRank</th>\n",
       "      <th>Score</th>\n",
       "      <th>Play</th>\n",
       "      <th>kume</th>\n",
       "    </tr>\n",
       "  </thead>\n",
       "  <tbody>\n",
       "    <tr>\n",
       "      <th>23</th>\n",
       "      <td>126</td>\n",
       "      <td>Anthony Davis</td>\n",
       "      <td>davisan02</td>\n",
       "      <td>C</td>\n",
       "      <td>NaN</td>\n",
       "      <td>25</td>\n",
       "      <td>NOP</td>\n",
       "      <td>56</td>\n",
       "      <td>56</td>\n",
       "      <td>33.0</td>\n",
       "      <td>9.5</td>\n",
       "      <td>18.3</td>\n",
       "      <td>0.517</td>\n",
       "      <td>0.9</td>\n",
       "      <td>2.6</td>\n",
       "      <td>0.331</td>\n",
       "      <td>8.6</td>\n",
       "      <td>15.7</td>\n",
       "      <td>0.547</td>\n",
       "      <td>0.540</td>\n",
       "      <td>6.1</td>\n",
       "      <td>7.7</td>\n",
       "      <td>0.794</td>\n",
       "      <td>3.1</td>\n",
       "      <td>8.9</td>\n",
       "      <td>12.0</td>\n",
       "      <td>3.9</td>\n",
       "      <td>1.6</td>\n",
       "      <td>2.4</td>\n",
       "      <td>2.0</td>\n",
       "      <td>2.4</td>\n",
       "      <td>25.9</td>\n",
       "      <td>25434263.0</td>\n",
       "      <td>972.769863</td>\n",
       "      <td>2018-19</td>\n",
       "      <td>West</td>\n",
       "      <td>Front</td>\n",
       "      <td>2520728</td>\n",
       "      <td>5</td>\n",
       "      <td>136</td>\n",
       "      <td>3</td>\n",
       "      <td>66</td>\n",
       "      <td>3</td>\n",
       "      <td>4.0</td>\n",
       "      <td>Yes</td>\n",
       "      <td>3</td>\n",
       "    </tr>\n",
       "    <tr>\n",
       "      <th>31</th>\n",
       "      <td>448</td>\n",
       "      <td>Ben Simmons</td>\n",
       "      <td>simmobe01</td>\n",
       "      <td>PG</td>\n",
       "      <td>NaN</td>\n",
       "      <td>22</td>\n",
       "      <td>PHI</td>\n",
       "      <td>79</td>\n",
       "      <td>79</td>\n",
       "      <td>34.2</td>\n",
       "      <td>6.8</td>\n",
       "      <td>12.2</td>\n",
       "      <td>0.563</td>\n",
       "      <td>0.0</td>\n",
       "      <td>0.1</td>\n",
       "      <td>0.000</td>\n",
       "      <td>6.8</td>\n",
       "      <td>12.1</td>\n",
       "      <td>0.566</td>\n",
       "      <td>0.563</td>\n",
       "      <td>3.3</td>\n",
       "      <td>5.4</td>\n",
       "      <td>0.600</td>\n",
       "      <td>2.2</td>\n",
       "      <td>6.6</td>\n",
       "      <td>8.8</td>\n",
       "      <td>7.7</td>\n",
       "      <td>1.4</td>\n",
       "      <td>0.8</td>\n",
       "      <td>3.5</td>\n",
       "      <td>2.6</td>\n",
       "      <td>16.9</td>\n",
       "      <td>6434520.0</td>\n",
       "      <td>6145.054795</td>\n",
       "      <td>2018-19</td>\n",
       "      <td>Est</td>\n",
       "      <td>Back</td>\n",
       "      <td>1184221</td>\n",
       "      <td>4</td>\n",
       "      <td>43</td>\n",
       "      <td>5</td>\n",
       "      <td>25</td>\n",
       "      <td>3</td>\n",
       "      <td>4.0</td>\n",
       "      <td>Yes</td>\n",
       "      <td>3</td>\n",
       "    </tr>\n",
       "    <tr>\n",
       "      <th>33</th>\n",
       "      <td>202</td>\n",
       "      <td>Blake Griffin</td>\n",
       "      <td>griffbl01</td>\n",
       "      <td>PF</td>\n",
       "      <td>NaN</td>\n",
       "      <td>29</td>\n",
       "      <td>DET</td>\n",
       "      <td>75</td>\n",
       "      <td>75</td>\n",
       "      <td>35.0</td>\n",
       "      <td>8.3</td>\n",
       "      <td>17.9</td>\n",
       "      <td>0.462</td>\n",
       "      <td>2.5</td>\n",
       "      <td>7.0</td>\n",
       "      <td>0.362</td>\n",
       "      <td>5.7</td>\n",
       "      <td>10.9</td>\n",
       "      <td>0.525</td>\n",
       "      <td>0.532</td>\n",
       "      <td>5.5</td>\n",
       "      <td>7.3</td>\n",
       "      <td>0.753</td>\n",
       "      <td>1.3</td>\n",
       "      <td>6.2</td>\n",
       "      <td>7.5</td>\n",
       "      <td>5.4</td>\n",
       "      <td>0.7</td>\n",
       "      <td>0.4</td>\n",
       "      <td>3.4</td>\n",
       "      <td>2.7</td>\n",
       "      <td>24.5</td>\n",
       "      <td>31873932.0</td>\n",
       "      <td>4820.797260</td>\n",
       "      <td>2018-19</td>\n",
       "      <td>Est</td>\n",
       "      <td>Front</td>\n",
       "      <td>843785</td>\n",
       "      <td>6</td>\n",
       "      <td>50</td>\n",
       "      <td>5</td>\n",
       "      <td>0</td>\n",
       "      <td>7</td>\n",
       "      <td>38.8</td>\n",
       "      <td>Yes</td>\n",
       "      <td>3</td>\n",
       "    </tr>\n",
       "    <tr>\n",
       "      <th>39</th>\n",
       "      <td>40</td>\n",
       "      <td>Bradley Beal</td>\n",
       "      <td>bealbr01</td>\n",
       "      <td>SG</td>\n",
       "      <td>NaN</td>\n",
       "      <td>25</td>\n",
       "      <td>WAS</td>\n",
       "      <td>82</td>\n",
       "      <td>82</td>\n",
       "      <td>36.9</td>\n",
       "      <td>9.3</td>\n",
       "      <td>19.6</td>\n",
       "      <td>0.475</td>\n",
       "      <td>2.5</td>\n",
       "      <td>7.3</td>\n",
       "      <td>0.351</td>\n",
       "      <td>6.8</td>\n",
       "      <td>12.4</td>\n",
       "      <td>0.548</td>\n",
       "      <td>0.540</td>\n",
       "      <td>4.4</td>\n",
       "      <td>5.5</td>\n",
       "      <td>0.808</td>\n",
       "      <td>1.1</td>\n",
       "      <td>3.9</td>\n",
       "      <td>5.0</td>\n",
       "      <td>5.5</td>\n",
       "      <td>1.5</td>\n",
       "      <td>0.7</td>\n",
       "      <td>2.7</td>\n",
       "      <td>2.8</td>\n",
       "      <td>25.6</td>\n",
       "      <td>25434262.0</td>\n",
       "      <td>944.076712</td>\n",
       "      <td>2018-19</td>\n",
       "      <td>Est</td>\n",
       "      <td>Back</td>\n",
       "      <td>346027</td>\n",
       "      <td>10</td>\n",
       "      <td>62</td>\n",
       "      <td>3</td>\n",
       "      <td>7</td>\n",
       "      <td>5</td>\n",
       "      <td>7.0</td>\n",
       "      <td>Yes</td>\n",
       "      <td>3</td>\n",
       "    </tr>\n",
       "    <tr>\n",
       "      <th>75</th>\n",
       "      <td>305</td>\n",
       "      <td>Damian Lillard</td>\n",
       "      <td>lillada01</td>\n",
       "      <td>PG</td>\n",
       "      <td>NaN</td>\n",
       "      <td>28</td>\n",
       "      <td>POR</td>\n",
       "      <td>80</td>\n",
       "      <td>80</td>\n",
       "      <td>35.5</td>\n",
       "      <td>8.5</td>\n",
       "      <td>19.2</td>\n",
       "      <td>0.444</td>\n",
       "      <td>3.0</td>\n",
       "      <td>8.0</td>\n",
       "      <td>0.369</td>\n",
       "      <td>5.6</td>\n",
       "      <td>11.1</td>\n",
       "      <td>0.499</td>\n",
       "      <td>0.522</td>\n",
       "      <td>5.9</td>\n",
       "      <td>6.4</td>\n",
       "      <td>0.912</td>\n",
       "      <td>0.9</td>\n",
       "      <td>3.8</td>\n",
       "      <td>4.6</td>\n",
       "      <td>6.9</td>\n",
       "      <td>1.1</td>\n",
       "      <td>0.4</td>\n",
       "      <td>2.7</td>\n",
       "      <td>1.9</td>\n",
       "      <td>25.8</td>\n",
       "      <td>27977689.0</td>\n",
       "      <td>2140.838356</td>\n",
       "      <td>2018-19</td>\n",
       "      <td>West</td>\n",
       "      <td>Back</td>\n",
       "      <td>1043785</td>\n",
       "      <td>6</td>\n",
       "      <td>31</td>\n",
       "      <td>5</td>\n",
       "      <td>1</td>\n",
       "      <td>4</td>\n",
       "      <td>5.2</td>\n",
       "      <td>Yes</td>\n",
       "      <td>3</td>\n",
       "    </tr>\n",
       "    <tr>\n",
       "      <th>158</th>\n",
       "      <td>18</td>\n",
       "      <td>Giannis Antetokounmpo</td>\n",
       "      <td>antetgi01</td>\n",
       "      <td>PF</td>\n",
       "      <td>NaN</td>\n",
       "      <td>24</td>\n",
       "      <td>MIL</td>\n",
       "      <td>72</td>\n",
       "      <td>72</td>\n",
       "      <td>32.8</td>\n",
       "      <td>10.0</td>\n",
       "      <td>17.3</td>\n",
       "      <td>0.578</td>\n",
       "      <td>0.7</td>\n",
       "      <td>2.8</td>\n",
       "      <td>0.256</td>\n",
       "      <td>9.3</td>\n",
       "      <td>14.5</td>\n",
       "      <td>0.641</td>\n",
       "      <td>0.599</td>\n",
       "      <td>6.9</td>\n",
       "      <td>9.5</td>\n",
       "      <td>0.729</td>\n",
       "      <td>2.2</td>\n",
       "      <td>10.3</td>\n",
       "      <td>12.5</td>\n",
       "      <td>5.9</td>\n",
       "      <td>1.3</td>\n",
       "      <td>1.5</td>\n",
       "      <td>3.7</td>\n",
       "      <td>3.2</td>\n",
       "      <td>27.7</td>\n",
       "      <td>24157304.0</td>\n",
       "      <td>6641.391781</td>\n",
       "      <td>2018-19</td>\n",
       "      <td>Est</td>\n",
       "      <td>Front</td>\n",
       "      <td>4375747</td>\n",
       "      <td>1</td>\n",
       "      <td>269</td>\n",
       "      <td>1</td>\n",
       "      <td>99</td>\n",
       "      <td>1</td>\n",
       "      <td>1.0</td>\n",
       "      <td>Yes</td>\n",
       "      <td>3</td>\n",
       "    </tr>\n",
       "    <tr>\n",
       "      <th>197</th>\n",
       "      <td>206</td>\n",
       "      <td>James Harden</td>\n",
       "      <td>hardeja01</td>\n",
       "      <td>PG</td>\n",
       "      <td>NaN</td>\n",
       "      <td>29</td>\n",
       "      <td>HOU</td>\n",
       "      <td>78</td>\n",
       "      <td>78</td>\n",
       "      <td>36.8</td>\n",
       "      <td>10.8</td>\n",
       "      <td>24.5</td>\n",
       "      <td>0.442</td>\n",
       "      <td>4.8</td>\n",
       "      <td>13.2</td>\n",
       "      <td>0.368</td>\n",
       "      <td>6.0</td>\n",
       "      <td>11.3</td>\n",
       "      <td>0.528</td>\n",
       "      <td>0.541</td>\n",
       "      <td>9.7</td>\n",
       "      <td>11.0</td>\n",
       "      <td>0.879</td>\n",
       "      <td>0.8</td>\n",
       "      <td>5.8</td>\n",
       "      <td>6.6</td>\n",
       "      <td>7.5</td>\n",
       "      <td>2.0</td>\n",
       "      <td>0.7</td>\n",
       "      <td>5.0</td>\n",
       "      <td>3.1</td>\n",
       "      <td>36.1</td>\n",
       "      <td>30570000.0</td>\n",
       "      <td>5984.852055</td>\n",
       "      <td>2018-19</td>\n",
       "      <td>West</td>\n",
       "      <td>Back</td>\n",
       "      <td>2905488</td>\n",
       "      <td>3</td>\n",
       "      <td>153</td>\n",
       "      <td>2</td>\n",
       "      <td>99</td>\n",
       "      <td>1</td>\n",
       "      <td>2.2</td>\n",
       "      <td>Yes</td>\n",
       "      <td>3</td>\n",
       "    </tr>\n",
       "    <tr>\n",
       "      <th>229</th>\n",
       "      <td>155</td>\n",
       "      <td>Joel Embiid</td>\n",
       "      <td>embiijo01</td>\n",
       "      <td>C</td>\n",
       "      <td>NaN</td>\n",
       "      <td>24</td>\n",
       "      <td>PHI</td>\n",
       "      <td>64</td>\n",
       "      <td>64</td>\n",
       "      <td>33.7</td>\n",
       "      <td>9.1</td>\n",
       "      <td>18.7</td>\n",
       "      <td>0.484</td>\n",
       "      <td>1.2</td>\n",
       "      <td>4.1</td>\n",
       "      <td>0.300</td>\n",
       "      <td>7.8</td>\n",
       "      <td>14.6</td>\n",
       "      <td>0.535</td>\n",
       "      <td>0.517</td>\n",
       "      <td>8.2</td>\n",
       "      <td>10.1</td>\n",
       "      <td>0.804</td>\n",
       "      <td>2.5</td>\n",
       "      <td>11.1</td>\n",
       "      <td>13.6</td>\n",
       "      <td>3.7</td>\n",
       "      <td>0.7</td>\n",
       "      <td>1.9</td>\n",
       "      <td>3.5</td>\n",
       "      <td>3.3</td>\n",
       "      <td>27.5</td>\n",
       "      <td>25467250.0</td>\n",
       "      <td>4577.375342</td>\n",
       "      <td>2018-19</td>\n",
       "      <td>Est</td>\n",
       "      <td>Front</td>\n",
       "      <td>2783833</td>\n",
       "      <td>3</td>\n",
       "      <td>186</td>\n",
       "      <td>3</td>\n",
       "      <td>99</td>\n",
       "      <td>1</td>\n",
       "      <td>2.5</td>\n",
       "      <td>Yes</td>\n",
       "      <td>3</td>\n",
       "    </tr>\n",
       "    <tr>\n",
       "      <th>260</th>\n",
       "      <td>301</td>\n",
       "      <td>Kawhi Leonard</td>\n",
       "      <td>leonaka01</td>\n",
       "      <td>SF</td>\n",
       "      <td>NaN</td>\n",
       "      <td>27</td>\n",
       "      <td>TOR</td>\n",
       "      <td>60</td>\n",
       "      <td>60</td>\n",
       "      <td>34.0</td>\n",
       "      <td>9.3</td>\n",
       "      <td>18.8</td>\n",
       "      <td>0.496</td>\n",
       "      <td>1.9</td>\n",
       "      <td>5.0</td>\n",
       "      <td>0.371</td>\n",
       "      <td>7.5</td>\n",
       "      <td>13.8</td>\n",
       "      <td>0.542</td>\n",
       "      <td>0.546</td>\n",
       "      <td>6.1</td>\n",
       "      <td>7.1</td>\n",
       "      <td>0.854</td>\n",
       "      <td>1.3</td>\n",
       "      <td>6.0</td>\n",
       "      <td>7.3</td>\n",
       "      <td>3.3</td>\n",
       "      <td>1.8</td>\n",
       "      <td>0.4</td>\n",
       "      <td>2.0</td>\n",
       "      <td>1.5</td>\n",
       "      <td>26.6</td>\n",
       "      <td>23114066.0</td>\n",
       "      <td>6419.293151</td>\n",
       "      <td>2018-19</td>\n",
       "      <td>Est</td>\n",
       "      <td>Front</td>\n",
       "      <td>3580531</td>\n",
       "      <td>2</td>\n",
       "      <td>189</td>\n",
       "      <td>2</td>\n",
       "      <td>99</td>\n",
       "      <td>1</td>\n",
       "      <td>1.8</td>\n",
       "      <td>Yes</td>\n",
       "      <td>3</td>\n",
       "    </tr>\n",
       "    <tr>\n",
       "      <th>263</th>\n",
       "      <td>496</td>\n",
       "      <td>Kemba Walker</td>\n",
       "      <td>walkeke02</td>\n",
       "      <td>PG</td>\n",
       "      <td>NaN</td>\n",
       "      <td>28</td>\n",
       "      <td>CHO</td>\n",
       "      <td>82</td>\n",
       "      <td>82</td>\n",
       "      <td>34.9</td>\n",
       "      <td>8.9</td>\n",
       "      <td>20.5</td>\n",
       "      <td>0.434</td>\n",
       "      <td>3.2</td>\n",
       "      <td>8.9</td>\n",
       "      <td>0.356</td>\n",
       "      <td>5.7</td>\n",
       "      <td>11.6</td>\n",
       "      <td>0.494</td>\n",
       "      <td>0.511</td>\n",
       "      <td>4.6</td>\n",
       "      <td>5.5</td>\n",
       "      <td>0.844</td>\n",
       "      <td>0.6</td>\n",
       "      <td>3.8</td>\n",
       "      <td>4.4</td>\n",
       "      <td>5.9</td>\n",
       "      <td>1.2</td>\n",
       "      <td>0.4</td>\n",
       "      <td>2.6</td>\n",
       "      <td>1.6</td>\n",
       "      <td>25.6</td>\n",
       "      <td>12000000.0</td>\n",
       "      <td>1770.638356</td>\n",
       "      <td>2018-19</td>\n",
       "      <td>Est</td>\n",
       "      <td>Back</td>\n",
       "      <td>1395330</td>\n",
       "      <td>3</td>\n",
       "      <td>98</td>\n",
       "      <td>2</td>\n",
       "      <td>48</td>\n",
       "      <td>2</td>\n",
       "      <td>2.5</td>\n",
       "      <td>Yes</td>\n",
       "      <td>3</td>\n",
       "    </tr>\n",
       "    <tr>\n",
       "      <th>268</th>\n",
       "      <td>150</td>\n",
       "      <td>Kevin Durant</td>\n",
       "      <td>duranke01</td>\n",
       "      <td>SF</td>\n",
       "      <td>NaN</td>\n",
       "      <td>30</td>\n",
       "      <td>GSW</td>\n",
       "      <td>78</td>\n",
       "      <td>78</td>\n",
       "      <td>34.6</td>\n",
       "      <td>9.2</td>\n",
       "      <td>17.7</td>\n",
       "      <td>0.521</td>\n",
       "      <td>1.8</td>\n",
       "      <td>5.0</td>\n",
       "      <td>0.353</td>\n",
       "      <td>7.5</td>\n",
       "      <td>12.8</td>\n",
       "      <td>0.587</td>\n",
       "      <td>0.571</td>\n",
       "      <td>5.7</td>\n",
       "      <td>6.5</td>\n",
       "      <td>0.885</td>\n",
       "      <td>0.4</td>\n",
       "      <td>5.9</td>\n",
       "      <td>6.4</td>\n",
       "      <td>5.9</td>\n",
       "      <td>0.7</td>\n",
       "      <td>1.1</td>\n",
       "      <td>2.9</td>\n",
       "      <td>2.0</td>\n",
       "      <td>26.0</td>\n",
       "      <td>30000000.0</td>\n",
       "      <td>10067.964384</td>\n",
       "      <td>2018-19</td>\n",
       "      <td>West</td>\n",
       "      <td>Front</td>\n",
       "      <td>3150648</td>\n",
       "      <td>3</td>\n",
       "      <td>168</td>\n",
       "      <td>2</td>\n",
       "      <td>77</td>\n",
       "      <td>2</td>\n",
       "      <td>2.5</td>\n",
       "      <td>Yes</td>\n",
       "      <td>3</td>\n",
       "    </tr>\n",
       "    <tr>\n",
       "      <th>285</th>\n",
       "      <td>249</td>\n",
       "      <td>Kyrie Irving</td>\n",
       "      <td>irvinky01</td>\n",
       "      <td>PG</td>\n",
       "      <td>NaN</td>\n",
       "      <td>26</td>\n",
       "      <td>BOS</td>\n",
       "      <td>67</td>\n",
       "      <td>67</td>\n",
       "      <td>33.0</td>\n",
       "      <td>9.0</td>\n",
       "      <td>18.5</td>\n",
       "      <td>0.487</td>\n",
       "      <td>2.6</td>\n",
       "      <td>6.5</td>\n",
       "      <td>0.401</td>\n",
       "      <td>6.4</td>\n",
       "      <td>12.0</td>\n",
       "      <td>0.533</td>\n",
       "      <td>0.557</td>\n",
       "      <td>3.2</td>\n",
       "      <td>3.7</td>\n",
       "      <td>0.873</td>\n",
       "      <td>1.1</td>\n",
       "      <td>3.9</td>\n",
       "      <td>5.0</td>\n",
       "      <td>6.9</td>\n",
       "      <td>1.5</td>\n",
       "      <td>0.5</td>\n",
       "      <td>2.6</td>\n",
       "      <td>2.5</td>\n",
       "      <td>23.8</td>\n",
       "      <td>20099189.0</td>\n",
       "      <td>8132.517808</td>\n",
       "      <td>2018-19</td>\n",
       "      <td>Est</td>\n",
       "      <td>Back</td>\n",
       "      <td>3881766</td>\n",
       "      <td>1</td>\n",
       "      <td>190</td>\n",
       "      <td>1</td>\n",
       "      <td>100</td>\n",
       "      <td>1</td>\n",
       "      <td>1.0</td>\n",
       "      <td>Yes</td>\n",
       "      <td>3</td>\n",
       "    </tr>\n",
       "    <tr>\n",
       "      <th>292</th>\n",
       "      <td>258</td>\n",
       "      <td>LeBron James</td>\n",
       "      <td>jamesle01</td>\n",
       "      <td>SF</td>\n",
       "      <td>NaN</td>\n",
       "      <td>34</td>\n",
       "      <td>LAL</td>\n",
       "      <td>55</td>\n",
       "      <td>55</td>\n",
       "      <td>35.2</td>\n",
       "      <td>10.1</td>\n",
       "      <td>19.9</td>\n",
       "      <td>0.510</td>\n",
       "      <td>2.0</td>\n",
       "      <td>5.9</td>\n",
       "      <td>0.339</td>\n",
       "      <td>8.1</td>\n",
       "      <td>14.0</td>\n",
       "      <td>0.582</td>\n",
       "      <td>0.560</td>\n",
       "      <td>5.1</td>\n",
       "      <td>7.6</td>\n",
       "      <td>0.665</td>\n",
       "      <td>1.0</td>\n",
       "      <td>7.4</td>\n",
       "      <td>8.5</td>\n",
       "      <td>8.3</td>\n",
       "      <td>1.3</td>\n",
       "      <td>0.6</td>\n",
       "      <td>3.6</td>\n",
       "      <td>1.7</td>\n",
       "      <td>27.4</td>\n",
       "      <td>35654150.0</td>\n",
       "      <td>34147.961644</td>\n",
       "      <td>2018-19</td>\n",
       "      <td>West</td>\n",
       "      <td>Front</td>\n",
       "      <td>4620809</td>\n",
       "      <td>1</td>\n",
       "      <td>174</td>\n",
       "      <td>1</td>\n",
       "      <td>78</td>\n",
       "      <td>1</td>\n",
       "      <td>1.0</td>\n",
       "      <td>Yes</td>\n",
       "      <td>3</td>\n",
       "    </tr>\n",
       "    <tr>\n",
       "      <th>298</th>\n",
       "      <td>142</td>\n",
       "      <td>Luka Doncic</td>\n",
       "      <td>doncilu01</td>\n",
       "      <td>SG</td>\n",
       "      <td>NaN</td>\n",
       "      <td>19</td>\n",
       "      <td>DAL</td>\n",
       "      <td>72</td>\n",
       "      <td>72</td>\n",
       "      <td>32.2</td>\n",
       "      <td>7.0</td>\n",
       "      <td>16.5</td>\n",
       "      <td>0.427</td>\n",
       "      <td>2.3</td>\n",
       "      <td>7.1</td>\n",
       "      <td>0.327</td>\n",
       "      <td>4.7</td>\n",
       "      <td>9.3</td>\n",
       "      <td>0.503</td>\n",
       "      <td>0.497</td>\n",
       "      <td>4.8</td>\n",
       "      <td>6.7</td>\n",
       "      <td>0.713</td>\n",
       "      <td>1.2</td>\n",
       "      <td>6.6</td>\n",
       "      <td>7.8</td>\n",
       "      <td>6.0</td>\n",
       "      <td>1.1</td>\n",
       "      <td>0.3</td>\n",
       "      <td>3.4</td>\n",
       "      <td>1.9</td>\n",
       "      <td>21.2</td>\n",
       "      <td>6569040.0</td>\n",
       "      <td>4626.490411</td>\n",
       "      <td>2018-19</td>\n",
       "      <td>West</td>\n",
       "      <td>Front</td>\n",
       "      <td>4242980</td>\n",
       "      <td>2</td>\n",
       "      <td>43</td>\n",
       "      <td>8</td>\n",
       "      <td>2</td>\n",
       "      <td>6</td>\n",
       "      <td>4.5</td>\n",
       "      <td>No</td>\n",
       "      <td>3</td>\n",
       "    </tr>\n",
       "    <tr>\n",
       "      <th>345</th>\n",
       "      <td>269</td>\n",
       "      <td>Nikola Jokic</td>\n",
       "      <td>jokicni01</td>\n",
       "      <td>C</td>\n",
       "      <td>NaN</td>\n",
       "      <td>23</td>\n",
       "      <td>DEN</td>\n",
       "      <td>80</td>\n",
       "      <td>80</td>\n",
       "      <td>31.3</td>\n",
       "      <td>7.7</td>\n",
       "      <td>15.1</td>\n",
       "      <td>0.511</td>\n",
       "      <td>1.0</td>\n",
       "      <td>3.4</td>\n",
       "      <td>0.307</td>\n",
       "      <td>6.7</td>\n",
       "      <td>11.7</td>\n",
       "      <td>0.569</td>\n",
       "      <td>0.545</td>\n",
       "      <td>3.6</td>\n",
       "      <td>4.4</td>\n",
       "      <td>0.821</td>\n",
       "      <td>2.9</td>\n",
       "      <td>8.0</td>\n",
       "      <td>10.8</td>\n",
       "      <td>7.3</td>\n",
       "      <td>1.4</td>\n",
       "      <td>0.7</td>\n",
       "      <td>3.1</td>\n",
       "      <td>2.9</td>\n",
       "      <td>20.1</td>\n",
       "      <td>25467250.0</td>\n",
       "      <td>1448.112329</td>\n",
       "      <td>2018-19</td>\n",
       "      <td>West</td>\n",
       "      <td>Front</td>\n",
       "      <td>1445989</td>\n",
       "      <td>7</td>\n",
       "      <td>75</td>\n",
       "      <td>5</td>\n",
       "      <td>33</td>\n",
       "      <td>5</td>\n",
       "      <td>6.0</td>\n",
       "      <td>Yes</td>\n",
       "      <td>3</td>\n",
       "    </tr>\n",
       "    <tr>\n",
       "      <th>362</th>\n",
       "      <td>183</td>\n",
       "      <td>Paul George</td>\n",
       "      <td>georgpa01</td>\n",
       "      <td>SF</td>\n",
       "      <td>NaN</td>\n",
       "      <td>28</td>\n",
       "      <td>OKC</td>\n",
       "      <td>77</td>\n",
       "      <td>77</td>\n",
       "      <td>36.9</td>\n",
       "      <td>9.2</td>\n",
       "      <td>21.0</td>\n",
       "      <td>0.438</td>\n",
       "      <td>3.8</td>\n",
       "      <td>9.8</td>\n",
       "      <td>0.386</td>\n",
       "      <td>5.4</td>\n",
       "      <td>11.1</td>\n",
       "      <td>0.484</td>\n",
       "      <td>0.529</td>\n",
       "      <td>5.9</td>\n",
       "      <td>7.0</td>\n",
       "      <td>0.839</td>\n",
       "      <td>1.4</td>\n",
       "      <td>6.8</td>\n",
       "      <td>8.2</td>\n",
       "      <td>4.1</td>\n",
       "      <td>2.2</td>\n",
       "      <td>0.4</td>\n",
       "      <td>2.7</td>\n",
       "      <td>2.8</td>\n",
       "      <td>28.0</td>\n",
       "      <td>30560700.0</td>\n",
       "      <td>2747.000000</td>\n",
       "      <td>2018-19</td>\n",
       "      <td>West</td>\n",
       "      <td>Front</td>\n",
       "      <td>3122346</td>\n",
       "      <td>4</td>\n",
       "      <td>76</td>\n",
       "      <td>4</td>\n",
       "      <td>43</td>\n",
       "      <td>4</td>\n",
       "      <td>4.0</td>\n",
       "      <td>Yes</td>\n",
       "      <td>3</td>\n",
       "    </tr>\n",
       "    <tr>\n",
       "      <th>387</th>\n",
       "      <td>506</td>\n",
       "      <td>Russell Westbrook</td>\n",
       "      <td>westbru01</td>\n",
       "      <td>PG</td>\n",
       "      <td>NaN</td>\n",
       "      <td>30</td>\n",
       "      <td>OKC</td>\n",
       "      <td>73</td>\n",
       "      <td>73</td>\n",
       "      <td>36.0</td>\n",
       "      <td>8.6</td>\n",
       "      <td>20.2</td>\n",
       "      <td>0.428</td>\n",
       "      <td>1.6</td>\n",
       "      <td>5.6</td>\n",
       "      <td>0.290</td>\n",
       "      <td>7.0</td>\n",
       "      <td>14.5</td>\n",
       "      <td>0.481</td>\n",
       "      <td>0.468</td>\n",
       "      <td>4.1</td>\n",
       "      <td>6.2</td>\n",
       "      <td>0.656</td>\n",
       "      <td>1.5</td>\n",
       "      <td>9.6</td>\n",
       "      <td>11.1</td>\n",
       "      <td>10.7</td>\n",
       "      <td>1.9</td>\n",
       "      <td>0.5</td>\n",
       "      <td>4.5</td>\n",
       "      <td>3.4</td>\n",
       "      <td>22.9</td>\n",
       "      <td>35665000.0</td>\n",
       "      <td>4348.841096</td>\n",
       "      <td>2018-19</td>\n",
       "      <td>West</td>\n",
       "      <td>Back</td>\n",
       "      <td>2512374</td>\n",
       "      <td>4</td>\n",
       "      <td>54</td>\n",
       "      <td>3</td>\n",
       "      <td>2</td>\n",
       "      <td>3</td>\n",
       "      <td>3.5</td>\n",
       "      <td>Yes</td>\n",
       "      <td>3</td>\n",
       "    </tr>\n",
       "    <tr>\n",
       "      <th>407</th>\n",
       "      <td>124</td>\n",
       "      <td>Stephen Curry</td>\n",
       "      <td>curryst01</td>\n",
       "      <td>PG</td>\n",
       "      <td>NaN</td>\n",
       "      <td>30</td>\n",
       "      <td>GSW</td>\n",
       "      <td>69</td>\n",
       "      <td>69</td>\n",
       "      <td>33.8</td>\n",
       "      <td>9.2</td>\n",
       "      <td>19.4</td>\n",
       "      <td>0.472</td>\n",
       "      <td>5.1</td>\n",
       "      <td>11.7</td>\n",
       "      <td>0.437</td>\n",
       "      <td>4.0</td>\n",
       "      <td>7.7</td>\n",
       "      <td>0.525</td>\n",
       "      <td>0.604</td>\n",
       "      <td>3.8</td>\n",
       "      <td>4.2</td>\n",
       "      <td>0.916</td>\n",
       "      <td>0.7</td>\n",
       "      <td>4.7</td>\n",
       "      <td>5.3</td>\n",
       "      <td>5.2</td>\n",
       "      <td>1.3</td>\n",
       "      <td>0.4</td>\n",
       "      <td>2.8</td>\n",
       "      <td>2.4</td>\n",
       "      <td>27.3</td>\n",
       "      <td>37457154.0</td>\n",
       "      <td>15609.117808</td>\n",
       "      <td>2018-19</td>\n",
       "      <td>West</td>\n",
       "      <td>Back</td>\n",
       "      <td>3861038</td>\n",
       "      <td>1</td>\n",
       "      <td>161</td>\n",
       "      <td>1</td>\n",
       "      <td>97</td>\n",
       "      <td>2</td>\n",
       "      <td>1.2</td>\n",
       "      <td>Yes</td>\n",
       "      <td>3</td>\n",
       "    </tr>\n",
       "  </tbody>\n",
       "</table>\n",
       "</div>"
      ],
      "text/plain": [
       "      Rk               Player_x  Player_ID Pos1 Pos2  Age   Tm   G  GS    MP  \\\n",
       "23   126          Anthony Davis  davisan02    C  NaN   25  NOP  56  56  33.0   \n",
       "31   448            Ben Simmons  simmobe01   PG  NaN   22  PHI  79  79  34.2   \n",
       "33   202          Blake Griffin  griffbl01   PF  NaN   29  DET  75  75  35.0   \n",
       "39    40           Bradley Beal   bealbr01   SG  NaN   25  WAS  82  82  36.9   \n",
       "75   305         Damian Lillard  lillada01   PG  NaN   28  POR  80  80  35.5   \n",
       "158   18  Giannis Antetokounmpo  antetgi01   PF  NaN   24  MIL  72  72  32.8   \n",
       "197  206           James Harden  hardeja01   PG  NaN   29  HOU  78  78  36.8   \n",
       "229  155            Joel Embiid  embiijo01    C  NaN   24  PHI  64  64  33.7   \n",
       "260  301          Kawhi Leonard  leonaka01   SF  NaN   27  TOR  60  60  34.0   \n",
       "263  496           Kemba Walker  walkeke02   PG  NaN   28  CHO  82  82  34.9   \n",
       "268  150           Kevin Durant  duranke01   SF  NaN   30  GSW  78  78  34.6   \n",
       "285  249           Kyrie Irving  irvinky01   PG  NaN   26  BOS  67  67  33.0   \n",
       "292  258           LeBron James  jamesle01   SF  NaN   34  LAL  55  55  35.2   \n",
       "298  142            Luka Doncic  doncilu01   SG  NaN   19  DAL  72  72  32.2   \n",
       "345  269           Nikola Jokic  jokicni01    C  NaN   23  DEN  80  80  31.3   \n",
       "362  183            Paul George  georgpa01   SF  NaN   28  OKC  77  77  36.9   \n",
       "387  506      Russell Westbrook  westbru01   PG  NaN   30  OKC  73  73  36.0   \n",
       "407  124          Stephen Curry  curryst01   PG  NaN   30  GSW  69  69  33.8   \n",
       "\n",
       "       FG   FGA    FG_  X3P  X3PA   X3P_  X2P  X2PA   X2P_   eFG_   FT   FTA  \\\n",
       "23    9.5  18.3  0.517  0.9   2.6  0.331  8.6  15.7  0.547  0.540  6.1   7.7   \n",
       "31    6.8  12.2  0.563  0.0   0.1  0.000  6.8  12.1  0.566  0.563  3.3   5.4   \n",
       "33    8.3  17.9  0.462  2.5   7.0  0.362  5.7  10.9  0.525  0.532  5.5   7.3   \n",
       "39    9.3  19.6  0.475  2.5   7.3  0.351  6.8  12.4  0.548  0.540  4.4   5.5   \n",
       "75    8.5  19.2  0.444  3.0   8.0  0.369  5.6  11.1  0.499  0.522  5.9   6.4   \n",
       "158  10.0  17.3  0.578  0.7   2.8  0.256  9.3  14.5  0.641  0.599  6.9   9.5   \n",
       "197  10.8  24.5  0.442  4.8  13.2  0.368  6.0  11.3  0.528  0.541  9.7  11.0   \n",
       "229   9.1  18.7  0.484  1.2   4.1  0.300  7.8  14.6  0.535  0.517  8.2  10.1   \n",
       "260   9.3  18.8  0.496  1.9   5.0  0.371  7.5  13.8  0.542  0.546  6.1   7.1   \n",
       "263   8.9  20.5  0.434  3.2   8.9  0.356  5.7  11.6  0.494  0.511  4.6   5.5   \n",
       "268   9.2  17.7  0.521  1.8   5.0  0.353  7.5  12.8  0.587  0.571  5.7   6.5   \n",
       "285   9.0  18.5  0.487  2.6   6.5  0.401  6.4  12.0  0.533  0.557  3.2   3.7   \n",
       "292  10.1  19.9  0.510  2.0   5.9  0.339  8.1  14.0  0.582  0.560  5.1   7.6   \n",
       "298   7.0  16.5  0.427  2.3   7.1  0.327  4.7   9.3  0.503  0.497  4.8   6.7   \n",
       "345   7.7  15.1  0.511  1.0   3.4  0.307  6.7  11.7  0.569  0.545  3.6   4.4   \n",
       "362   9.2  21.0  0.438  3.8   9.8  0.386  5.4  11.1  0.484  0.529  5.9   7.0   \n",
       "387   8.6  20.2  0.428  1.6   5.6  0.290  7.0  14.5  0.481  0.468  4.1   6.2   \n",
       "407   9.2  19.4  0.472  5.1  11.7  0.437  4.0   7.7  0.525  0.604  3.8   4.2   \n",
       "\n",
       "       FT_  ORB   DRB   TRB   AST  STL  BLK  TOV   PF   PTS      Salary  \\\n",
       "23   0.794  3.1   8.9  12.0   3.9  1.6  2.4  2.0  2.4  25.9  25434263.0   \n",
       "31   0.600  2.2   6.6   8.8   7.7  1.4  0.8  3.5  2.6  16.9   6434520.0   \n",
       "33   0.753  1.3   6.2   7.5   5.4  0.7  0.4  3.4  2.7  24.5  31873932.0   \n",
       "39   0.808  1.1   3.9   5.0   5.5  1.5  0.7  2.7  2.8  25.6  25434262.0   \n",
       "75   0.912  0.9   3.8   4.6   6.9  1.1  0.4  2.7  1.9  25.8  27977689.0   \n",
       "158  0.729  2.2  10.3  12.5   5.9  1.3  1.5  3.7  3.2  27.7  24157304.0   \n",
       "197  0.879  0.8   5.8   6.6   7.5  2.0  0.7  5.0  3.1  36.1  30570000.0   \n",
       "229  0.804  2.5  11.1  13.6   3.7  0.7  1.9  3.5  3.3  27.5  25467250.0   \n",
       "260  0.854  1.3   6.0   7.3   3.3  1.8  0.4  2.0  1.5  26.6  23114066.0   \n",
       "263  0.844  0.6   3.8   4.4   5.9  1.2  0.4  2.6  1.6  25.6  12000000.0   \n",
       "268  0.885  0.4   5.9   6.4   5.9  0.7  1.1  2.9  2.0  26.0  30000000.0   \n",
       "285  0.873  1.1   3.9   5.0   6.9  1.5  0.5  2.6  2.5  23.8  20099189.0   \n",
       "292  0.665  1.0   7.4   8.5   8.3  1.3  0.6  3.6  1.7  27.4  35654150.0   \n",
       "298  0.713  1.2   6.6   7.8   6.0  1.1  0.3  3.4  1.9  21.2   6569040.0   \n",
       "345  0.821  2.9   8.0  10.8   7.3  1.4  0.7  3.1  2.9  20.1  25467250.0   \n",
       "362  0.839  1.4   6.8   8.2   4.1  2.2  0.4  2.7  2.8  28.0  30560700.0   \n",
       "387  0.656  1.5   9.6  11.1  10.7  1.9  0.5  4.5  3.4  22.9  35665000.0   \n",
       "407  0.916  0.7   4.7   5.3   5.2  1.3  0.4  2.8  2.4  27.3  37457154.0   \n",
       "\n",
       "       mean_views   Season Conference   Role     Fvot  FRank  Pvot  PRank  \\\n",
       "23     972.769863  2018-19       West  Front  2520728      5   136      3   \n",
       "31    6145.054795  2018-19        Est   Back  1184221      4    43      5   \n",
       "33    4820.797260  2018-19        Est  Front   843785      6    50      5   \n",
       "39     944.076712  2018-19        Est   Back   346027     10    62      3   \n",
       "75    2140.838356  2018-19       West   Back  1043785      6    31      5   \n",
       "158   6641.391781  2018-19        Est  Front  4375747      1   269      1   \n",
       "197   5984.852055  2018-19       West   Back  2905488      3   153      2   \n",
       "229   4577.375342  2018-19        Est  Front  2783833      3   186      3   \n",
       "260   6419.293151  2018-19        Est  Front  3580531      2   189      2   \n",
       "263   1770.638356  2018-19        Est   Back  1395330      3    98      2   \n",
       "268  10067.964384  2018-19       West  Front  3150648      3   168      2   \n",
       "285   8132.517808  2018-19        Est   Back  3881766      1   190      1   \n",
       "292  34147.961644  2018-19       West  Front  4620809      1   174      1   \n",
       "298   4626.490411  2018-19       West  Front  4242980      2    43      8   \n",
       "345   1448.112329  2018-19       West  Front  1445989      7    75      5   \n",
       "362   2747.000000  2018-19       West  Front  3122346      4    76      4   \n",
       "387   4348.841096  2018-19       West   Back  2512374      4    54      3   \n",
       "407  15609.117808  2018-19       West   Back  3861038      1   161      1   \n",
       "\n",
       "     Mvot  MRank  Score Play  kume  \n",
       "23     66      3    4.0  Yes     3  \n",
       "31     25      3    4.0  Yes     3  \n",
       "33      0      7   38.8  Yes     3  \n",
       "39      7      5    7.0  Yes     3  \n",
       "75      1      4    5.2  Yes     3  \n",
       "158    99      1    1.0  Yes     3  \n",
       "197    99      1    2.2  Yes     3  \n",
       "229    99      1    2.5  Yes     3  \n",
       "260    99      1    1.8  Yes     3  \n",
       "263    48      2    2.5  Yes     3  \n",
       "268    77      2    2.5  Yes     3  \n",
       "285   100      1    1.0  Yes     3  \n",
       "292    78      1    1.0  Yes     3  \n",
       "298     2      6    4.5   No     3  \n",
       "345    33      5    6.0  Yes     3  \n",
       "362    43      4    4.0  Yes     3  \n",
       "387     2      3    3.5  Yes     3  \n",
       "407    97      2    1.2  Yes     3  "
      ]
     },
     "execution_count": 80,
     "metadata": {},
     "output_type": "execute_result"
    }
   ],
   "source": [
    "#En iyi küme olan Küme-3'de kimler olduğuna bakalım.\n",
    "\n",
    "df[df.kume == 3]"
   ]
  },
  {
   "cell_type": "markdown",
   "metadata": {},
   "source": [
    "NBA Süper Yıldızları!!"
   ]
  },
  {
   "cell_type": "markdown",
   "metadata": {},
   "source": [
    "Ve son olarak milli yıldızlarımız Cedi Osman ve Furkan Korkmaz'ın hangi kümede olduklarına ve istatistiklerine bakalım."
   ]
  },
  {
   "cell_type": "code",
   "execution_count": 81,
   "metadata": {},
   "outputs": [
    {
     "data": {
      "text/html": [
       "<div>\n",
       "<style scoped>\n",
       "    .dataframe tbody tr th:only-of-type {\n",
       "        vertical-align: middle;\n",
       "    }\n",
       "\n",
       "    .dataframe tbody tr th {\n",
       "        vertical-align: top;\n",
       "    }\n",
       "\n",
       "    .dataframe thead th {\n",
       "        text-align: right;\n",
       "    }\n",
       "</style>\n",
       "<table border=\"1\" class=\"dataframe\">\n",
       "  <thead>\n",
       "    <tr style=\"text-align: right;\">\n",
       "      <th></th>\n",
       "      <th>Rk</th>\n",
       "      <th>Player_x</th>\n",
       "      <th>Player_ID</th>\n",
       "      <th>Pos1</th>\n",
       "      <th>Pos2</th>\n",
       "      <th>Age</th>\n",
       "      <th>Tm</th>\n",
       "      <th>G</th>\n",
       "      <th>GS</th>\n",
       "      <th>MP</th>\n",
       "      <th>FG</th>\n",
       "      <th>FGA</th>\n",
       "      <th>FG_</th>\n",
       "      <th>X3P</th>\n",
       "      <th>X3PA</th>\n",
       "      <th>X3P_</th>\n",
       "      <th>X2P</th>\n",
       "      <th>X2PA</th>\n",
       "      <th>X2P_</th>\n",
       "      <th>eFG_</th>\n",
       "      <th>FT</th>\n",
       "      <th>FTA</th>\n",
       "      <th>FT_</th>\n",
       "      <th>ORB</th>\n",
       "      <th>DRB</th>\n",
       "      <th>TRB</th>\n",
       "      <th>AST</th>\n",
       "      <th>STL</th>\n",
       "      <th>BLK</th>\n",
       "      <th>TOV</th>\n",
       "      <th>PF</th>\n",
       "      <th>PTS</th>\n",
       "      <th>Salary</th>\n",
       "      <th>mean_views</th>\n",
       "      <th>Season</th>\n",
       "      <th>Conference</th>\n",
       "      <th>Role</th>\n",
       "      <th>Fvot</th>\n",
       "      <th>FRank</th>\n",
       "      <th>Pvot</th>\n",
       "      <th>PRank</th>\n",
       "      <th>Mvot</th>\n",
       "      <th>MRank</th>\n",
       "      <th>Score</th>\n",
       "      <th>Play</th>\n",
       "      <th>kume</th>\n",
       "    </tr>\n",
       "  </thead>\n",
       "  <tbody>\n",
       "    <tr>\n",
       "      <th>54</th>\n",
       "      <td>391</td>\n",
       "      <td>Cedi Osman</td>\n",
       "      <td>osmande01</td>\n",
       "      <td>SF</td>\n",
       "      <td>NaN</td>\n",
       "      <td>23</td>\n",
       "      <td>CLE</td>\n",
       "      <td>76</td>\n",
       "      <td>75</td>\n",
       "      <td>32.2</td>\n",
       "      <td>4.7</td>\n",
       "      <td>11.1</td>\n",
       "      <td>0.427</td>\n",
       "      <td>1.7</td>\n",
       "      <td>4.9</td>\n",
       "      <td>0.348</td>\n",
       "      <td>3.0</td>\n",
       "      <td>6.2</td>\n",
       "      <td>0.489</td>\n",
       "      <td>0.504</td>\n",
       "      <td>1.9</td>\n",
       "      <td>2.4</td>\n",
       "      <td>0.779</td>\n",
       "      <td>0.6</td>\n",
       "      <td>4.1</td>\n",
       "      <td>4.7</td>\n",
       "      <td>2.6</td>\n",
       "      <td>0.8</td>\n",
       "      <td>0.1</td>\n",
       "      <td>1.5</td>\n",
       "      <td>2.6</td>\n",
       "      <td>13.0</td>\n",
       "      <td>2775000.0</td>\n",
       "      <td>1419.761644</td>\n",
       "      <td>2018-19</td>\n",
       "      <td>Est</td>\n",
       "      <td>Front</td>\n",
       "      <td>101593</td>\n",
       "      <td>23</td>\n",
       "      <td>1</td>\n",
       "      <td>57</td>\n",
       "      <td>0</td>\n",
       "      <td>7</td>\n",
       "      <td>60.2</td>\n",
       "      <td>No</td>\n",
       "      <td>2</td>\n",
       "    </tr>\n",
       "  </tbody>\n",
       "</table>\n",
       "</div>"
      ],
      "text/plain": [
       "     Rk    Player_x  Player_ID Pos1 Pos2  Age   Tm   G  GS    MP   FG   FGA  \\\n",
       "54  391  Cedi Osman  osmande01   SF  NaN   23  CLE  76  75  32.2  4.7  11.1   \n",
       "\n",
       "      FG_  X3P  X3PA   X3P_  X2P  X2PA   X2P_   eFG_   FT  FTA    FT_  ORB  \\\n",
       "54  0.427  1.7   4.9  0.348  3.0   6.2  0.489  0.504  1.9  2.4  0.779  0.6   \n",
       "\n",
       "    DRB  TRB  AST  STL  BLK  TOV   PF   PTS     Salary   mean_views   Season  \\\n",
       "54  4.1  4.7  2.6  0.8  0.1  1.5  2.6  13.0  2775000.0  1419.761644  2018-19   \n",
       "\n",
       "   Conference   Role    Fvot  FRank  Pvot  PRank  Mvot  MRank  Score Play  \\\n",
       "54        Est  Front  101593     23     1     57     0      7   60.2   No   \n",
       "\n",
       "    kume  \n",
       "54     2  "
      ]
     },
     "execution_count": 81,
     "metadata": {},
     "output_type": "execute_result"
    }
   ],
   "source": [
    "df[df.Player_x == \"Cedi Osman\"]"
   ]
  },
  {
   "cell_type": "markdown",
   "metadata": {},
   "source": [
    "Cedi Küme-2 de."
   ]
  },
  {
   "cell_type": "code",
   "execution_count": 82,
   "metadata": {
    "scrolled": true
   },
   "outputs": [
    {
     "data": {
      "text/html": [
       "<div>\n",
       "<style scoped>\n",
       "    .dataframe tbody tr th:only-of-type {\n",
       "        vertical-align: middle;\n",
       "    }\n",
       "\n",
       "    .dataframe tbody tr th {\n",
       "        vertical-align: top;\n",
       "    }\n",
       "\n",
       "    .dataframe thead th {\n",
       "        text-align: right;\n",
       "    }\n",
       "</style>\n",
       "<table border=\"1\" class=\"dataframe\">\n",
       "  <thead>\n",
       "    <tr style=\"text-align: right;\">\n",
       "      <th></th>\n",
       "      <th>Rk</th>\n",
       "      <th>Player_x</th>\n",
       "      <th>Player_ID</th>\n",
       "      <th>Pos1</th>\n",
       "      <th>Pos2</th>\n",
       "      <th>Age</th>\n",
       "      <th>Tm</th>\n",
       "      <th>G</th>\n",
       "      <th>GS</th>\n",
       "      <th>MP</th>\n",
       "      <th>FG</th>\n",
       "      <th>FGA</th>\n",
       "      <th>FG_</th>\n",
       "      <th>X3P</th>\n",
       "      <th>X3PA</th>\n",
       "      <th>X3P_</th>\n",
       "      <th>X2P</th>\n",
       "      <th>X2PA</th>\n",
       "      <th>X2P_</th>\n",
       "      <th>eFG_</th>\n",
       "      <th>FT</th>\n",
       "      <th>FTA</th>\n",
       "      <th>FT_</th>\n",
       "      <th>ORB</th>\n",
       "      <th>DRB</th>\n",
       "      <th>TRB</th>\n",
       "      <th>AST</th>\n",
       "      <th>STL</th>\n",
       "      <th>BLK</th>\n",
       "      <th>TOV</th>\n",
       "      <th>PF</th>\n",
       "      <th>PTS</th>\n",
       "      <th>Salary</th>\n",
       "      <th>mean_views</th>\n",
       "      <th>Season</th>\n",
       "      <th>Conference</th>\n",
       "      <th>Role</th>\n",
       "      <th>Fvot</th>\n",
       "      <th>FRank</th>\n",
       "      <th>Pvot</th>\n",
       "      <th>PRank</th>\n",
       "      <th>Mvot</th>\n",
       "      <th>MRank</th>\n",
       "      <th>Score</th>\n",
       "      <th>Play</th>\n",
       "      <th>kume</th>\n",
       "    </tr>\n",
       "  </thead>\n",
       "  <tbody>\n",
       "    <tr>\n",
       "      <th>150</th>\n",
       "      <td>286</td>\n",
       "      <td>Furkan Korkmaz</td>\n",
       "      <td>korkmfu01</td>\n",
       "      <td>SG</td>\n",
       "      <td>NaN</td>\n",
       "      <td>21</td>\n",
       "      <td>PHI</td>\n",
       "      <td>48</td>\n",
       "      <td>7</td>\n",
       "      <td>14.1</td>\n",
       "      <td>2.0</td>\n",
       "      <td>5.1</td>\n",
       "      <td>0.4</td>\n",
       "      <td>1.0</td>\n",
       "      <td>3.0</td>\n",
       "      <td>0.326</td>\n",
       "      <td>1.1</td>\n",
       "      <td>2.1</td>\n",
       "      <td>0.505</td>\n",
       "      <td>0.496</td>\n",
       "      <td>0.8</td>\n",
       "      <td>0.9</td>\n",
       "      <td>0.818</td>\n",
       "      <td>0.3</td>\n",
       "      <td>1.9</td>\n",
       "      <td>2.2</td>\n",
       "      <td>1.1</td>\n",
       "      <td>0.6</td>\n",
       "      <td>0.0</td>\n",
       "      <td>0.5</td>\n",
       "      <td>1.3</td>\n",
       "      <td>5.8</td>\n",
       "      <td>1740000.0</td>\n",
       "      <td>368.739726</td>\n",
       "      <td>2018-19</td>\n",
       "      <td>Est</td>\n",
       "      <td>Back</td>\n",
       "      <td>61306</td>\n",
       "      <td>26</td>\n",
       "      <td>0</td>\n",
       "      <td>61</td>\n",
       "      <td>0</td>\n",
       "      <td>8</td>\n",
       "      <td>88.2</td>\n",
       "      <td>No</td>\n",
       "      <td>4</td>\n",
       "    </tr>\n",
       "  </tbody>\n",
       "</table>\n",
       "</div>"
      ],
      "text/plain": [
       "      Rk        Player_x  Player_ID Pos1 Pos2  Age   Tm   G  GS    MP   FG  \\\n",
       "150  286  Furkan Korkmaz  korkmfu01   SG  NaN   21  PHI  48   7  14.1  2.0   \n",
       "\n",
       "     FGA  FG_  X3P  X3PA   X3P_  X2P  X2PA   X2P_   eFG_   FT  FTA    FT_  \\\n",
       "150  5.1  0.4  1.0   3.0  0.326  1.1   2.1  0.505  0.496  0.8  0.9  0.818   \n",
       "\n",
       "     ORB  DRB  TRB  AST  STL  BLK  TOV   PF  PTS     Salary  mean_views  \\\n",
       "150  0.3  1.9  2.2  1.1  0.6  0.0  0.5  1.3  5.8  1740000.0  368.739726   \n",
       "\n",
       "      Season Conference  Role   Fvot  FRank  Pvot  PRank  Mvot  MRank  Score  \\\n",
       "150  2018-19        Est  Back  61306     26     0     61     0      8   88.2   \n",
       "\n",
       "    Play  kume  \n",
       "150   No     4  "
      ]
     },
     "execution_count": 82,
     "metadata": {},
     "output_type": "execute_result"
    }
   ],
   "source": [
    "df[df.Player_x == \"Furkan Korkmaz\"]"
   ]
  },
  {
   "cell_type": "markdown",
   "metadata": {},
   "source": [
    "Furkan Küme-4 de."
   ]
  }
 ],
 "metadata": {
  "kernelspec": {
   "display_name": "Python 3",
   "language": "python",
   "name": "python3"
  },
  "language_info": {
   "codemirror_mode": {
    "name": "ipython",
    "version": 3
   },
   "file_extension": ".py",
   "mimetype": "text/x-python",
   "name": "python",
   "nbconvert_exporter": "python",
   "pygments_lexer": "ipython3",
   "version": "3.7.6"
  }
 },
 "nbformat": 4,
 "nbformat_minor": 2
}
